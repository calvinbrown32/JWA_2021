{
 "cells": [
  {
   "cell_type": "markdown",
   "metadata": {},
   "source": [
    "# Residential Coverage Analysis \n",
    "\n",
    "\"\"\"This Script uses the sample-project environment, with the osmnx module updated.\n",
    "To update the osmnx module within the sample-project environment, I ran the following\n",
    "conda commands in the terminal:\n",
    "\n",
    "1)Duplicate the sample-project environment:\n",
    "conda create --name sample-project_2  --clone sample-project\n",
    "\n",
    "2)Update osmnx:\n",
    "conda update osmnx\n",
    "\n",
    "This script creates a place boundary and downloads the pois within that polygon. Next, it downloads network data:\n",
    "osm edges and nodes and exports this to a geopackage.\n",
    "\"\"\""
   ]
  },
  {
   "cell_type": "markdown",
   "metadata": {},
   "source": [
    "### OSMNX ISOCHRONE GUIDE\n",
    "###### https://github.com/gboeing/osmnx-examples/blob/main/notebooks/13-isolines-isochrones.ipynb\n",
    "##### UHELSKINKI AUTOGIS and Network Analysis:\n",
    "###### https://autogis-site.readthedocs.io/en/latest/notebooks/L6/01_network_analysis.html\n",
    "##### See Also:\n",
    "###### https://pythoncharmers.com/blog/travel-distance-python-with-geopandas-folium-alphashape-osmnx-buffer.html\n",
    "###### http://kuanbutts.com/2017/12/16/osmnx-isochrones/"
   ]
  },
  {
   "cell_type": "code",
   "execution_count": 1,
   "metadata": {},
   "outputs": [
    {
     "data": {
      "text/plain": [
       "'1.1.2'"
      ]
     },
     "execution_count": 1,
     "metadata": {},
     "output_type": "execute_result"
    },
    {
     "name": "stdout",
     "output_type": "stream",
     "text": [
      "2021-12-25 12:24:55 Configured OSMnx 1.1.2\n",
      "2021-12-25 12:24:55 HTTP response caching is on\n"
     ]
    }
   ],
   "source": [
    "import os\n",
    "import geopandas as gpd\n",
    "import osmnx as ox\n",
    "import matplotlib.pyplot as plt\n",
    "import networkx as nx\n",
    "import fiona\n",
    "from descartes import PolygonPatch\n",
    "from shapely.geometry import Point, LineString, Polygon\n",
    "from scipy.spatial import Voronoi\n",
    "import numpy as np\n",
    "import shapely\n",
    "\n",
    "ox.config(log_console=True, use_cache=True)\n",
    "ox.__version__"
   ]
  },
  {
   "cell_type": "code",
   "execution_count": 2,
   "metadata": {},
   "outputs": [],
   "source": [
    "from IPython.display import display"
   ]
  },
  {
   "cell_type": "code",
   "execution_count": 3,
   "metadata": {},
   "outputs": [],
   "source": [
    "#For graphing features in jupyter notebook:\n",
    "%matplotlib inline\n",
    "# ox.config(log_console=True, use_cache=True)\n",
    "# ox.__version__"
   ]
  },
  {
   "cell_type": "code",
   "execution_count": 4,
   "metadata": {},
   "outputs": [],
   "source": [
    "PROJECT_FOLDER = r\"/Users/calvindechicago/Documents/GitHub/JWA_2021\"\n",
    "COUNTY_POLYGON = os.path.join(PROJECT_FOLDER, \"Data\", \"osm_county_polygon.gpkg\" )\n",
    "\n",
    "STUDY_AREA = \"/Users/calvindechicago/Documents/GitHub/JWA_2021/code_outputs/route2_and_max_yellow/route2_max_yellow_buffer_poly.gpkg\"\n",
    "ROUTE_2_STOPS = '/Users/calvindechicago/Documents/GitHub/JWA_2021/data/Data_from_JWA/Route2_Stops.shp'\n",
    "ROUTE_2_STOPS_TEST = '/Users/calvindechicago/Documents/GitHub/JWA_2021/data/route_2_stops_test/route_2_stops_test.gpkg'\n",
    "MAX_YELLOW_STOPS = '/Users/calvindechicago/Documents/GitHub/JWA_2021/data/Data_from_JWA/MAX_Yellow_stops.shp'\n",
    "#pois_export = os.path.join(PROJECT_FOLDER, \"Data\", \"From_Public_Sources\", \"OSM_Data\", \"singapore_poi.shp\")\n",
    "pois_gpkg = os.path.join(PROJECT_FOLDER, \"Data\", \"From_Public_Sources\", \"OSM\", \"poi.gpkg\")\n",
    "network_output = os.path.join(PROJECT_FOLDER, \"Data\", \"network.gpkg\")"
   ]
  },
  {
   "cell_type": "code",
   "execution_count": 5,
   "metadata": {},
   "outputs": [
    {
     "name": "stdout",
     "output_type": "stream",
     "text": [
      "2021-12-25 12:24:58 Retrieved response from cache file \"cache/8cf5ce47f3c71ddf2f130625dfbd35014712c804.json\"\n",
      "2021-12-25 12:24:58 Created GeoDataFrame with 1 rows from 1 queries\n",
      "2021-12-25 12:24:58 Projected GeoDataFrame to 4326\n"
     ]
    }
   ],
   "source": [
    "# get the boundary polygon for the city or county. This polygon will be used to pull network and POIs\n",
    "county_poly = ox.geocoder.geocode_to_gdf('Multnomah County')\n",
    "county_proj = ox.project_gdf(county_poly,4326)"
   ]
  },
  {
   "cell_type": "code",
   "execution_count": 6,
   "metadata": {},
   "outputs": [
    {
     "data": {
      "text/plain": [
       "<AxesSubplot:>"
      ]
     },
     "execution_count": 6,
     "metadata": {},
     "output_type": "execute_result"
    },
    {
     "data": {
      "image/png": "[encoded data removed]",
      "text/plain": [
       "<Figure size 432x288 with 1 Axes>"
      ]
     },
     "metadata": {
      "needs_background": "light"
     },
     "output_type": "display_data"
    }
   ],
   "source": [
    "# Plot County geometry\n",
    "county_proj.plot()"
   ]
  },
  {
   "cell_type": "code",
   "execution_count": null,
   "metadata": {},
   "outputs": [],
   "source": [
    "# Export County Geometry\n",
    "\n",
    "county_proj.to_file(COUNTY_POLYGON, layer='county_poly', driver=\"GPKG\")"
   ]
  },
  {
   "cell_type": "code",
   "execution_count": 7,
   "metadata": {},
   "outputs": [],
   "source": [
    "# Use this polygon to pull network in osmnx\n",
    "\n",
    "polygon = county_proj['geometry'].iloc[0]"
   ]
  },
  {
   "cell_type": "code",
   "execution_count": 8,
   "metadata": {},
   "outputs": [
    {
     "name": "stdout",
     "output_type": "stream",
     "text": [
      "2021-12-25 12:25:26 Projected GeoDataFrame to +proj=utm +zone=10 +ellps=WGS84 +datum=WGS84 +units=m +no_defs +type=crs\n",
      "2021-12-25 12:25:26 Projected GeoDataFrame to epsg:4326\n",
      "2021-12-25 12:25:26 Projected GeoDataFrame to +proj=utm +zone=10 +ellps=WGS84 +datum=WGS84 +units=m +no_defs +type=crs\n",
      "2021-12-25 12:25:27 Projected GeoDataFrame to epsg:4326\n",
      "2021-12-25 12:25:27 Requesting data within polygon from API in 1 request(s)\n",
      "2021-12-25 12:25:28 Retrieved response from cache file \"cache/1540e6335ee5fbc9efcce76059b6fd0d604fa035.json\"\n",
      "2021-12-25 12:25:28 Got all network data within polygon from API in 1 request(s)\n",
      "2021-12-25 12:25:28 Creating graph from downloaded OSM data...\n",
      "2021-12-25 12:25:37 Created graph with 385673 nodes and 841414 edges\n",
      "2021-12-25 12:25:43 Added length attributes to graph edges\n",
      "2021-12-25 12:25:43 Identifying all nodes that lie outside the polygon...\n",
      "2021-12-25 12:26:02 Created nodes GeoDataFrame from graph\n",
      "2021-12-25 12:26:16 Created r-tree spatial index for 385673 geometries\n",
      "2021-12-25 12:26:20 Identified 377052 geometries inside polygon\n",
      "2021-12-25 12:26:28 Removed 8621 nodes outside polygon\n",
      "2021-12-25 12:26:28 Truncated graph by polygon\n",
      "2021-12-25 12:26:30 Begin topologically simplifying the graph...\n",
      "2021-12-25 12:26:43 Identified 87120 edge endpoints\n",
      "2021-12-25 12:27:18 Simplified graph: 377052 to 87120 nodes, 823750 to 243886 edges\n",
      "2021-12-25 12:27:19 Identifying all nodes that lie outside the polygon...\n",
      "2021-12-25 12:27:22 Created nodes GeoDataFrame from graph\n",
      "2021-12-25 12:27:24 Created r-tree spatial index for 87120 geometries\n",
      "2021-12-25 12:27:25 Identified 81784 geometries inside polygon\n",
      "2021-12-25 12:27:27 Removed 5336 nodes outside polygon\n",
      "2021-12-25 12:27:29 Removed 24 isolated nodes\n",
      "2021-12-25 12:27:34 Got largest weakly connected component (80407 of 81760 total nodes)\n",
      "2021-12-25 12:27:34 Truncated graph by polygon\n",
      "2021-12-25 12:27:35 Counted undirected street segments incident on each node\n",
      "2021-12-25 12:27:36 graph_from_polygon returned graph with 80407 nodes and 228468 edges\n"
     ]
    }
   ],
   "source": [
    "# PULL NETWORK\n",
    "# NOTE: Setting network type is important, and analysis on the network failed when I did not set the network type. \n",
    "\n",
    "network_type='walk'\n",
    "\n",
    "G = ox.graph_from_polygon(polygon,  network_type=network_type)\n",
    "\n",
    "# print('Making the graph undirected')\n",
    "# G = G.to_undirected()\n"
   ]
  },
  {
   "cell_type": "code",
   "execution_count": 9,
   "metadata": {},
   "outputs": [
    {
     "name": "stdout",
     "output_type": "stream",
     "text": [
      "2021-12-25 12:34:40 Created nodes GeoDataFrame from graph\n",
      "2021-12-25 12:34:49 Projected GeoDataFrame to +proj=utm +zone=10 +ellps=WGS84 +datum=WGS84 +units=m +no_defs +type=crs\n",
      "2021-12-25 12:35:06 Created edges GeoDataFrame from graph\n",
      "2021-12-25 12:35:17 Projected GeoDataFrame to +proj=utm +zone=10 +ellps=WGS84 +datum=WGS84 +units=m +no_defs +type=crs\n",
      "2021-12-25 12:35:24 Created graph from node/edge GeoDataFrames\n",
      "2021-12-25 12:35:24 Projected graph with 80407 nodes and 228468 edges\n"
     ]
    }
   ],
   "source": [
    "# Project the graph to UTM \n",
    "# osmnx automatically determines correct UTM zone and projects the graph. \n",
    "# Unit: Meters\n",
    "\n",
    "G = ox.project_graph(G)\n"
   ]
  },
  {
   "cell_type": "code",
   "execution_count": 10,
   "metadata": {},
   "outputs": [
    {
     "name": "stdout",
     "output_type": "stream",
     "text": [
      "2021-12-25 12:36:03 Begin plotting the graph...\n",
      "2021-12-25 12:36:11 Created edges GeoDataFrame from graph\n",
      "2021-12-25 12:36:21 Created nodes GeoDataFrame from graph\n"
     ]
    },
    {
     "data": {
      "image/png": "[encoded data removed]",
      "text/plain": [
       "<Figure size 576x576 with 1 Axes>"
      ]
     },
     "metadata": {},
     "output_type": "display_data"
    },
    {
     "name": "stdout",
     "output_type": "stream",
     "text": [
      "2021-12-25 12:36:36 Finished plotting the graph\n"
     ]
    }
   ],
   "source": [
    "\n",
    "fig, ax = ox.plot_graph(G)"
   ]
  },
  {
   "cell_type": "code",
   "execution_count": 12,
   "metadata": {},
   "outputs": [],
   "source": [
    "# Set travel speed and desired isochrone radius \n",
    "\n",
    "travel_speed = 4.5  # walking speed in km/hour (about 2.8 mph)\n",
    "miles = .5\n"
   ]
  },
  {
   "cell_type": "code",
   "execution_count": 13,
   "metadata": {},
   "outputs": [],
   "source": [
    "# Add an edge attribute for time in minutes required to traverse each edge\n",
    "\n",
    "# For more info on networkx and graph.edges function used here, see:\n",
    "# https://networkx.org/documentation/stable/reference/classes/generated/networkx.Graph.edges.html\n",
    "\n",
    "meters_per_minute = travel_speed * 1000 / 60 #km per hour to m per minute\n",
    "for u, v, k, data in G.edges(data=True, keys=True):\n",
    "    data['time'] = data['length'] / meters_per_minute\n",
    "\n",
    "\n"
   ]
  },
  {
   "cell_type": "code",
   "execution_count": 14,
   "metadata": {},
   "outputs": [],
   "source": [
    "# - Simple conversion function that determines the travel time \n",
    "# needed to travel a given distance in (Miles) at a given speed (in KPH). \n",
    "# - It takes as inputs a distance (in Miles) and travel speed (KPH)\n",
    "# - The distance provided sets the network based travel radius to create isochrones. \n",
    "# - The travel speed given approximates the speed of a given mode, such as bicycling, walking, or transit. \n",
    "# - The trip time produced is appended to an empty list to work with\n",
    "# the isochrone creation script written by Geoff Boeing. \n",
    "\n",
    "\n",
    "def kph_dist_calc(travel_speed, miles):\n",
    "    dist_kilometers = miles * 1.60934\n",
    "    trip_time = []\n",
    "    trip_time.append((dist_kilometers / travel_speed)*60)\n",
    "    return(trip_time)\n",
    "    \n",
    "\n",
    "# Run function with inputs defined in earlier cell    \n",
    "trip_time = kph_dist_calc(travel_speed, miles)\n",
    "\n"
   ]
  },
  {
   "cell_type": "code",
   "execution_count": 20,
   "metadata": {},
   "outputs": [
    {
     "data": {
      "text/plain": [
       "10.728933333333334"
      ]
     },
     "execution_count": 20,
     "metadata": {},
     "output_type": "execute_result"
    }
   ],
   "source": [
    "# Future functions require the trip time value be numeric, not a list. \n",
    "\n",
    "trip_time = trip_time[0]\n",
    "trip_time"
   ]
  },
  {
   "cell_type": "code",
   "execution_count": 15,
   "metadata": {},
   "outputs": [
    {
     "name": "stdout",
     "output_type": "stream",
     "text": [
      "2021-12-25 12:41:12 Created edges GeoDataFrame from graph\n",
      "2021-12-25 12:41:15 Created nodes GeoDataFrame from graph\n"
     ]
    }
   ],
   "source": [
    "# Create Geodataframe from graph edges to view data\n",
    "\n",
    "gdf_edges = ox.graph_to_gdfs(G, nodes=False, edges=True)\n",
    "gdf_nodes = ox.graph_to_gdfs(G, nodes=True, edges=False)"
   ]
  },
  {
   "cell_type": "code",
   "execution_count": 17,
   "metadata": {},
   "outputs": [
    {
     "data": {
      "text/plain": [
       "<Derived Projected CRS: +proj=utm +zone=10 +ellps=WGS84 +datum=WGS84 +unit ...>\n",
       "Name: unknown\n",
       "Axis Info [cartesian]:\n",
       "- E[east]: Easting (metre)\n",
       "- N[north]: Northing (metre)\n",
       "Area of Use:\n",
       "- undefined\n",
       "Coordinate Operation:\n",
       "- name: UTM zone 10N\n",
       "- method: Transverse Mercator\n",
       "Datum: World Geodetic System 1984\n",
       "- Ellipsoid: WGS 84\n",
       "- Prime Meridian: Greenwich"
      ]
     },
     "execution_count": 17,
     "metadata": {},
     "output_type": "execute_result"
    }
   ],
   "source": [
    "gdf_edges.crs"
   ]
  },
  {
   "cell_type": "code",
   "execution_count": 18,
   "metadata": {},
   "outputs": [],
   "source": [
    "# Geopackage does not accept columns with lists as values. Iterate over invalid columns and convert to strings:\n",
    "invalid_cols = ['lanes', 'maxspeed', 'name', 'oneway', 'osmid', 'highway', 'est_width', 'service', 'access', \n",
    "               'bridge', 'ref','tunnel', 'junction', 'landuse', 'width', 'area']\n",
    "for col in invalid_cols:\n",
    "    gdf_edges[col] = gdf_edges[col].astype(str)"
   ]
  },
  {
   "cell_type": "code",
   "execution_count": 19,
   "metadata": {},
   "outputs": [],
   "source": [
    "#EXPORT EDGES to GEOPACKAGE\n",
    "\n",
    "gdf_edges_filepath =\"/Users/calvindechicago/Documents/GitHub/JWA_2021/code_outputs/edges.gpkg\"\n",
    "gdf_edges.to_file(gdf_edges_filepath, layer='edges', driver=\"GPKG\")"
   ]
  },
  {
   "cell_type": "code",
   "execution_count": 21,
   "metadata": {},
   "outputs": [],
   "source": [
    "# Read in Bus Stops to geodataframe\n",
    "\n",
    "route_2_stops = gpd.read_file(ROUTE_2_STOPS)\n",
    "max_yellow_stops = gpd.read_file(MAX_YELLOW_STOPS)\n",
    "\n",
    "#ROUTE_2_STOPS_TEST = '/Users/calvindechicago/Documents/GitHub/JWA_2021/data/route_2_stops_test/route_2_stops_test.gpkg'\n",
    "#ROUTE_2_STOPS_TEST = '/Users/calvindechicago/Documents/GitHub/JWA_2021/data/route_2_stops_test/route_2_stops_test_v2.gpkg'\n",
    "\n",
    "\n",
    "#route_2_stops = gpd.read_file(ROUTE_2_STOPS_TEST, layer='route_2_stops_test')\n",
    "#route_2_stops = gpd.read_file(ROUTE_2_STOPS_TEST, layer='route_2_stops_test_v2')\n",
    "\n"
   ]
  },
  {
   "cell_type": "code",
   "execution_count": 22,
   "metadata": {},
   "outputs": [],
   "source": [
    "all_stops = route_2_stops.append(max_yellow_stops)"
   ]
  },
  {
   "cell_type": "code",
   "execution_count": 23,
   "metadata": {},
   "outputs": [
    {
     "data": {
      "text/plain": [
       "<AxesSubplot:>"
      ]
     },
     "execution_count": 23,
     "metadata": {},
     "output_type": "execute_result"
    },
    {
     "data": {
      "image/png": "[encoded data removed]",
      "text/plain": [
       "<Figure size 432x288 with 1 Axes>"
      ]
     },
     "metadata": {
      "needs_background": "light"
     },
     "output_type": "display_data"
    }
   ],
   "source": [
    "all_stops.plot()"
   ]
  },
  {
   "cell_type": "code",
   "execution_count": 24,
   "metadata": {},
   "outputs": [
    {
     "data": {
      "text/plain": [
       "<Derived Projected CRS: EPSG:2269>\n",
       "Name: NAD83 / Oregon North (ft)\n",
       "Axis Info [cartesian]:\n",
       "- X[east]: Easting (foot)\n",
       "- Y[north]: Northing (foot)\n",
       "Area of Use:\n",
       "- name: United States (USA) - Oregon - counties of Baker; Benton; Clackamas; Clatsop; Columbia; Gilliam; Grant; Hood River; Jefferson; Lincoln; Linn; Marion; Morrow; Multnomah; Polk; Sherman; Tillamook; Umatilla; Union; Wallowa; Wasco; Washington; Wheeler; Yamhill.\n",
       "- bounds: (-124.17, 43.95, -116.47, 46.26)\n",
       "Coordinate Operation:\n",
       "- name: SPCS83 Oregon North zone (International feet)\n",
       "- method: Lambert Conic Conformal (2SP)\n",
       "Datum: North American Datum 1983\n",
       "- Ellipsoid: GRS 1980\n",
       "- Prime Meridian: Greenwich"
      ]
     },
     "execution_count": 24,
     "metadata": {},
     "output_type": "execute_result"
    }
   ],
   "source": [
    "all_stops.crs"
   ]
  },
  {
   "cell_type": "code",
   "execution_count": 25,
   "metadata": {},
   "outputs": [],
   "source": [
    "# Project route_2_stops to UTM CRS of graph\n",
    "all_stops = all_stops.to_crs(epsg=32610)\n",
    "\n"
   ]
  },
  {
   "cell_type": "code",
   "execution_count": 37,
   "metadata": {},
   "outputs": [],
   "source": [
    "# Export the merged all stops \n",
    "\n",
    "all_stops_file =\"/Users/calvindechicago/Documents/GitHub/JWA_2021/code_outputs/all_stops.gpkg\"\n",
    "all_stops.to_file(all_stops_file, layer='all_stops', driver=\"GPKG\")"
   ]
  },
  {
   "cell_type": "code",
   "execution_count": 26,
   "metadata": {},
   "outputs": [
    {
     "name": "stdout",
     "output_type": "stream",
     "text": [
      "2021-12-25 12:56:12 Created nodes GeoDataFrame from graph\n",
      "The nearest nodes are: \n",
      " \n"
     ]
    },
    {
     "data": {
      "text/plain": [
       "[8530056035,\n",
       " 1392895123,\n",
       " 1525729024,\n",
       " 333332728,\n",
       " 40602211,\n",
       " 1601885117,\n",
       " 40692280,\n",
       " 40536806,\n",
       " 1387003072,\n",
       " 1386993937,\n",
       " 1386994338,\n",
       " 7979194296,\n",
       " 1451089540,\n",
       " 333465373,\n",
       " 4582091925,\n",
       " 8383153041,\n",
       " 40469244,\n",
       " 1568023487,\n",
       " 40732679,\n",
       " 40419039,\n",
       " 4580524805,\n",
       " 40607516,\n",
       " 7520853998,\n",
       " 8315226142,\n",
       " 40637562,\n",
       " 40627252,\n",
       " 40723551,\n",
       " 40657510,\n",
       " 4581700183,\n",
       " 40675592,\n",
       " 40446196,\n",
       " 4582099930,\n",
       " 4582099930,\n",
       " 4578417041,\n",
       " 4581947135,\n",
       " 40603741,\n",
       " 40583575,\n",
       " 40583575,\n",
       " 8508594053,\n",
       " 40393454,\n",
       " 5980806592,\n",
       " 4691595334,\n",
       " 8488999004,\n",
       " 5311230286,\n",
       " 40689628,\n",
       " 40669850,\n",
       " 1486833614,\n",
       " 40689628,\n",
       " 40498312,\n",
       " 8386372003,\n",
       " 5735128648,\n",
       " 1831522747,\n",
       " 1368361293,\n",
       " 40703351,\n",
       " 40703351,\n",
       " 40562035,\n",
       " 4581775926,\n",
       " 40534536,\n",
       " 4581758291,\n",
       " 4086104973,\n",
       " 7010735905,\n",
       " 4086104902,\n",
       " 8694846749,\n",
       " 9338370475,\n",
       " 40719837,\n",
       " 40524665,\n",
       " 4580531712,\n",
       " 40524665,\n",
       " 4042040839,\n",
       " 7765373708,\n",
       " 4580531708,\n",
       " 40628183,\n",
       " 4580531788,\n",
       " 1576367469,\n",
       " 4210464332,\n",
       " 40479423,\n",
       " 40621545,\n",
       " 4195841447,\n",
       " 40479423,\n",
       " 1319666175,\n",
       " 4195841449,\n",
       " 40524522,\n",
       " 40511888,\n",
       " 616945300,\n",
       " 4195841446,\n",
       " 40524513,\n",
       " 40651707,\n",
       " 660933412,\n",
       " 4262175373,\n",
       " 7578810359,\n",
       " 40732461,\n",
       " 40524515,\n",
       " 40651707,\n",
       " 4301338759,\n",
       " 40695040,\n",
       " 1439844236,\n",
       " 40732461,\n",
       " 1314960184,\n",
       " 1368503691,\n",
       " 4582100393,\n",
       " 40695040,\n",
       " 4582126661,\n",
       " 40688842,\n",
       " 616945284,\n",
       " 7578810319,\n",
       " 40632387,\n",
       " 40524511,\n",
       " 40611188,\n",
       " 616638315,\n",
       " 40688842,\n",
       " 5980806677,\n",
       " 40582115,\n",
       " 40524518,\n",
       " 40611188,\n",
       " 4582139123,\n",
       " 40517315,\n",
       " 40517315,\n",
       " 40688670,\n",
       " 40688670,\n",
       " 8432004361,\n",
       " 7624370286,\n",
       " 40570002,\n",
       " 40570002,\n",
       " 40700013,\n",
       " 7987911872,\n",
       " 7441594845,\n",
       " 40402892,\n",
       " 40465242,\n",
       " 4580445133,\n",
       " 4580445133,\n",
       " 4581759157,\n",
       " 40684835,\n",
       " 8694796586,\n",
       " 1329357883,\n",
       " 3958221014,\n",
       " 7061724127,\n",
       " 1448290695,\n",
       " 40732587,\n",
       " 4580413850,\n",
       " 40547311,\n",
       " 7061724142,\n",
       " 40557959,\n",
       " 1391202274,\n",
       " 4195841495,\n",
       " 1409083654,\n",
       " 5735665361,\n",
       " 5735665360,\n",
       " 40616814,\n",
       " 1378067902,\n",
       " 40616814,\n",
       " 1385362674,\n",
       " 5235598016,\n",
       " 40531477,\n",
       " 40565543,\n",
       " 5235596604,\n",
       " 4578347624,\n",
       " 1409060095,\n",
       " 5235597949,\n",
       " 4210464349,\n",
       " 5235598029,\n",
       " 1400377023,\n",
       " 664384273,\n",
       " 40577405,\n",
       " 40580710,\n",
       " 1747727543,\n",
       " 1385362553,\n",
       " 4471639422,\n",
       " 1890265957,\n",
       " 1403740820,\n",
       " 1417639513,\n",
       " 40450371,\n",
       " 1369505141,\n",
       " 1403600984,\n",
       " 255993206,\n",
       " 7576272850,\n",
       " 1392884737,\n",
       " 1403758493,\n",
       " 472531027]"
      ]
     },
     "execution_count": 26,
     "metadata": {},
     "output_type": "execute_result"
    }
   ],
   "source": [
    "#nearest_nodes = []\n",
    "nearest_node = ox.distance.nearest_nodes(G, all_stops['geometry'].x, all_stops['geometry'].y )\n",
    "#nearest_nodes.append(nearest_node)\n",
    "\n",
    "print(\"The nearest nodes are: \\n \")\n",
    "nearest_node"
   ]
  },
  {
   "cell_type": "code",
   "execution_count": null,
   "metadata": {},
   "outputs": [],
   "source": [
    "# Test on single node\n",
    "\n",
    "# node1 = nearest_node[0]\n",
    "# subgraph = nx.ego_graph(G, node1, radius=trip_time, distance='time')\n",
    "# node_points = [Point((data['x'], data['y'])) for node, data in subgraph.nodes(data=True)]\n",
    "# node_points"
   ]
  },
  {
   "cell_type": "code",
   "execution_count": 27,
   "metadata": {},
   "outputs": [],
   "source": [
    "# Make ISOCHRONES for each Bus Stop\n",
    "isochrone_polys = []\n",
    "for node in nearest_node:\n",
    "    # make the isochrone polygons\n",
    "    subgraph = nx.ego_graph(G, node, radius=trip_time, distance='time')\n",
    "    node_points = [Point((data['x'], data['y'])) for node, data in subgraph.nodes(data=True)]\n",
    "    bounding_poly = gpd.GeoSeries(node_points).unary_union.convex_hull\n",
    "    isochrone_polys.append(bounding_poly)\n",
    "\n",
    "len(node_points)"
   ]
  },
  {
   "cell_type": "code",
   "execution_count": 29,
   "metadata": {},
   "outputs": [],
   "source": [
    "#Create geodataframe of isochrones for export\n",
    "\n",
    "isochrone_gdf = gpd.GeoDataFrame(isochrone_polys, geometry=0)"
   ]
  },
  {
   "cell_type": "code",
   "execution_count": 31,
   "metadata": {},
   "outputs": [],
   "source": [
    "#SET CRS\n",
    "isochrone_gdf = isochrone_gdf.set_crs(epsg=32610)"
   ]
  },
  {
   "cell_type": "code",
   "execution_count": 32,
   "metadata": {},
   "outputs": [],
   "source": [
    "# Export Isochrone layer\n",
    "\n",
    "isochrone_export_3=\"/Users/calvindechicago/Documents/GitHub/JWA_2021/code_outputs/isochrones/all_stops_iso.gpkg\"\n",
    "\n",
    "isochrone_gdf.to_file(isochrone_export_3, layer='all_stops_iso', driver=\"GPKG\")"
   ]
  },
  {
   "cell_type": "code",
   "execution_count": 34,
   "metadata": {},
   "outputs": [],
   "source": [
    "# Dissolve the Isochrones\n",
    "# Geopandas requires a dissolve field. Create new field and set every row to 1. \n",
    "\n",
    "isochrone_gdf['dissolvefield']= 1\n",
    "iso_dissolved = isochrone_gdf.dissolve(by='dissolvefield')\n"
   ]
  },
  {
   "cell_type": "code",
   "execution_count": 36,
   "metadata": {},
   "outputs": [],
   "source": [
    "#SET CRS\n",
    "iso_dissolved = iso_dissolved.set_crs(epsg=32610)\n",
    "\n",
    "# Export Isochrone layer\n",
    "\n",
    "isochrone_export_3=\"/Users/calvindechicago/Documents/GitHub/JWA_2021/code_outputs/isochrones/all_stops_iso.gpkg\"\n",
    "\n",
    "iso_dissolved.to_file(isochrone_export_3, layer='isos_dissolved', driver=\"GPKG\")\n"
   ]
  },
  {
   "cell_type": "code",
   "execution_count": 38,
   "metadata": {},
   "outputs": [],
   "source": [
    "# Create point data from all bus stop points\n",
    "# This is a necessary step to using the Shapely Voronoi tool\n",
    "\n",
    "all_stops_points = all_stops['geometry']"
   ]
  },
  {
   "cell_type": "code",
   "execution_count": 39,
   "metadata": {},
   "outputs": [],
   "source": [
    "# Create array of coordinates for all stops\n",
    "\n",
    "x = all_stops.geometry.x.values\n",
    "y = all_stops.geometry.y.values\n",
    "coords = np.vstack((x, y)).T\n",
    "\n"
   ]
  },
  {
   "cell_type": "code",
   "execution_count": 40,
   "metadata": {},
   "outputs": [],
   "source": [
    "# The shapely Voronoi tool has an issue with creating polygons for some outlying points. \n",
    "# See Stackoverflow for notes:\n",
    "# # FROM: https://stackoverflow.com/questions/20515554/colorize-voronoi-diagram/20678647#20678647\n",
    "\n",
    "# To work around the issue create the vertices for an enlarged bounding box. \n",
    "# This isn't a perfect solution, but should work well enough for this application. \n",
    "# Here I use +/- 5000 meters. \n",
    "\n",
    "def enlarged_bbox(points):\n",
    "    x_coordinates, y_coordinates = zip(*points)\n",
    "\n",
    "    return [(min(x_coordinates)-5000,min(y_coordinates)-5000), (max(x_coordinates)+5000, max(y_coordinates)+5000), \n",
    "            (min(x_coordinates)-5000, max(y_coordinates)+5000 ), (max(x_coordinates)+5000, min(y_coordinates)-5000)]\n",
    "\n"
   ]
  },
  {
   "cell_type": "code",
   "execution_count": 41,
   "metadata": {},
   "outputs": [],
   "source": [
    "# Run enlarged_bbox function\n",
    "\n",
    "bbox = enlarged_bbox(coords)"
   ]
  },
  {
   "cell_type": "code",
   "execution_count": 42,
   "metadata": {},
   "outputs": [
    {
     "data": {
      "text/html": [
       "<div>\n",
       "<style scoped>\n",
       "    .dataframe tbody tr th:only-of-type {\n",
       "        vertical-align: middle;\n",
       "    }\n",
       "\n",
       "    .dataframe tbody tr th {\n",
       "        vertical-align: top;\n",
       "    }\n",
       "\n",
       "    .dataframe thead th {\n",
       "        text-align: right;\n",
       "    }\n",
       "</style>\n",
       "<table border=\"1\" class=\"dataframe\">\n",
       "  <thead>\n",
       "    <tr style=\"text-align: right;\">\n",
       "      <th></th>\n",
       "      <th>geometry</th>\n",
       "    </tr>\n",
       "  </thead>\n",
       "  <tbody>\n",
       "    <tr>\n",
       "      <th>0</th>\n",
       "      <td>POINT (519502.724 5033943.933)</td>\n",
       "    </tr>\n",
       "    <tr>\n",
       "      <th>1</th>\n",
       "      <td>POINT (549804.882 5055259.285)</td>\n",
       "    </tr>\n",
       "    <tr>\n",
       "      <th>2</th>\n",
       "      <td>POINT (519502.724 5055259.285)</td>\n",
       "    </tr>\n",
       "    <tr>\n",
       "      <th>3</th>\n",
       "      <td>POINT (549804.882 5033943.933)</td>\n",
       "    </tr>\n",
       "  </tbody>\n",
       "</table>\n",
       "</div>"
      ],
      "text/plain": [
       "                         geometry\n",
       "0  POINT (519502.724 5033943.933)\n",
       "1  POINT (549804.882 5055259.285)\n",
       "2  POINT (519502.724 5055259.285)\n",
       "3  POINT (549804.882 5033943.933)"
      ]
     },
     "execution_count": 42,
     "metadata": {},
     "output_type": "execute_result"
    }
   ],
   "source": [
    "# Put enlarged bbox in Geodataframe. This creates a geodataframe with two columns:\n",
    "# one with x coordinates and another with y coordinates. \n",
    "gdf_bbox = gpd.GeoDataFrame(bbox)\n",
    "\n",
    "# Create a single column geodataframe with a geometry column with the enlarged bbox coordinates\n",
    "bbox_gdf = gpd.GeoDataFrame(geometry=gpd.points_from_xy(gdf_bbox[0], gdf_bbox[1]))\n",
    "\n",
    "# View results\n",
    "bbox_gdf"
   ]
  },
  {
   "cell_type": "code",
   "execution_count": 43,
   "metadata": {},
   "outputs": [
    {
     "name": "stdout",
     "output_type": "stream",
     "text": [
      "Coords shape before adding enlarged bounding box vertices:\n",
      "\n",
      "(178, 2)\n"
     ]
    },
    {
     "ename": "NameError",
     "evalue": "name 'bbox_coords' is not defined",
     "output_type": "error",
     "traceback": [
      "\u001b[0;31m---------------------------------------------------------------------------\u001b[0m",
      "\u001b[0;31mNameError\u001b[0m                                 Traceback (most recent call last)",
      "\u001b[0;32m/var/folders/xj/mnh68ysn51s7wsvw5gl23h2r0000gq/T/ipykernel_69827/20727877.py\u001b[0m in \u001b[0;36m<module>\u001b[0;34m\u001b[0m\n\u001b[1;32m      4\u001b[0m \u001b[0mprint\u001b[0m\u001b[0;34m(\u001b[0m\u001b[0mcoords\u001b[0m\u001b[0;34m.\u001b[0m\u001b[0mshape\u001b[0m\u001b[0;34m)\u001b[0m\u001b[0;34m\u001b[0m\u001b[0;34m\u001b[0m\u001b[0m\n\u001b[1;32m      5\u001b[0m \u001b[0;34m\u001b[0m\u001b[0m\n\u001b[0;32m----> 6\u001b[0;31m \u001b[0mcoords\u001b[0m \u001b[0;34m=\u001b[0m \u001b[0mnp\u001b[0m\u001b[0;34m.\u001b[0m\u001b[0mappend\u001b[0m\u001b[0;34m(\u001b[0m\u001b[0mcoords\u001b[0m\u001b[0;34m,\u001b[0m \u001b[0mbbox_coords\u001b[0m\u001b[0;34m,\u001b[0m \u001b[0maxis\u001b[0m \u001b[0;34m=\u001b[0m \u001b[0;36m0\u001b[0m\u001b[0;34m)\u001b[0m\u001b[0;34m\u001b[0m\u001b[0;34m\u001b[0m\u001b[0m\n\u001b[0m\u001b[1;32m      7\u001b[0m \u001b[0;34m\u001b[0m\u001b[0m\n\u001b[1;32m      8\u001b[0m \u001b[0mprint\u001b[0m\u001b[0;34m(\u001b[0m\u001b[0;34m'Coords shape after adding enlarged bounding box vertices:\\n'\u001b[0m\u001b[0;34m)\u001b[0m\u001b[0;34m\u001b[0m\u001b[0;34m\u001b[0m\u001b[0m\n",
      "\u001b[0;31mNameError\u001b[0m: name 'bbox_coords' is not defined"
     ]
    }
   ],
   "source": [
    "# Append enlarged bbox vertices to points\n",
    "\n",
    "print('Coords shape before adding enlarged bounding box vertices:\\n')\n",
    "print(coords.shape)\n",
    "\n",
    "coords = np.append(coords, bbox_coords, axis = 0)\n",
    "\n",
    "print('Coords shape after adding enlarged bounding box vertices:\\n')\n",
    "print(coords.shape)"
   ]
  },
  {
   "cell_type": "code",
   "execution_count": null,
   "metadata": {},
   "outputs": [],
   "source": [
    "# Set CRS and Export\n",
    "bbox_gdf = bbox_gdf.set_crs(epsg=32610)\n",
    "enlarged_bbox_file =\"/Users/calvindechicago/Documents/GitHub/JWA_2021/code_outputs/enlarged_bbox.gpkg\"\n",
    "bbox_gdf.to_file(enlarged_bbox_file, layer='enlarged_bbox', driver=\"GPKG\")"
   ]
  },
  {
   "cell_type": "code",
   "execution_count": null,
   "metadata": {},
   "outputs": [],
   "source": [
    "# Previous code - Saving here as notes\n",
    "# gdf_bbox = gpd.points_from_xy(gdf_bbox[0], gdf_bbox[1])\n",
    "# bbox_gdf = gpd.GeoDataFrame(geometry=gpd.points_from_xy(gdf_bbox.x, gdf_bbox.y))"
   ]
  },
  {
   "cell_type": "code",
   "execution_count": null,
   "metadata": {},
   "outputs": [],
   "source": [
    "# Run Shapely voronoi tool on original points, with enlarged bounding box vertices added to point list\n",
    "vor = Voronoi(coords)"
   ]
  },
  {
   "cell_type": "code",
   "execution_count": null,
   "metadata": {},
   "outputs": [],
   "source": [
    "# Create polygons from Shapely Voronoi data \n",
    "\n",
    "lines = [shapely.geometry.LineString(vor.vertices[line]) for line in \n",
    "    vor.ridge_vertices if -1 not in line]\n",
    "polys = shapely.ops.polygonize(lines)\n",
    "voronois = gpd.GeoDataFrame(geometry=gpd.GeoSeries(polys))\n",
    "lines = [LineString(vor.vertices[line]) for line in vor.ridge_vertices if -1 not in line]\n",
    "regions = gpd.GeoDataFrame(data=shapely.ops.polygonize(lines), columns=['geometry'], geometry='geometry')\n",
    "\n"
   ]
  },
  {
   "cell_type": "code",
   "execution_count": null,
   "metadata": {},
   "outputs": [],
   "source": [
    "# Project and Export newly created voronoi polygons\n",
    "regions = regions.set_crs(epsg=32610)\n",
    "\n",
    "# Save Voronoi Polygons to disk\n",
    "regions_file =\"/Users/calvindechicago/Documents/GitHub/JWA_2021/code_outputs/voronois.gpkg\"\n",
    "regions.to_file(regions_file, layer='voronois', driver=\"GPKG\")"
   ]
  },
  {
   "cell_type": "code",
   "execution_count": null,
   "metadata": {},
   "outputs": [],
   "source": [
    "# TO DO: \n",
    "# 1 DONE join block group pop totals with block group geographies and export\n",
    "# 2 DONE Make 1/2 mile isochrones for each transit stop and export\n",
    "# 3 DONE Merge Isochrones\n",
    "# 4 Create Voronoi Polygons within merged isochrones\n",
    "# 5 Where Voronoi Polygons overlap multiple blockgroups, find proportion that they overlap and calculate proportional total population.\n",
    "# 6 join Voronoi Stats with each Stop\n",
    "# Create Leaflet Layer for Voronoi Polygons and symbolize graduated on ridership capture areas to show high/low areas. \n",
    "\n",
    "# TO DO:\n",
    "# iterate through bus stop list and find nearest node\n",
    "# Creates 1/2 mile isochrone for each bus stop nearest node. "
   ]
  }
 ],
 "metadata": {
  "kernelspec": {
   "display_name": "Python 3 (ipykernel)",
   "language": "python",
   "name": "python3"
  },
  "language_info": {
   "codemirror_mode": {
    "name": "ipython",
    "version": 3
   },
   "file_extension": ".py",
   "mimetype": "text/x-python",
   "name": "python",
   "nbconvert_exporter": "python",
   "pygments_lexer": "ipython3",
   "version": "3.10.1"
  }
 },
 "nbformat": 4,
 "nbformat_minor": 4
}
