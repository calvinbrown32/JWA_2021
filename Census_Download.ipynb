{
 "cells": [
  {
   "cell_type": "markdown",
   "metadata": {},
   "source": [
    "# Block Group Census Population Download for Trimet Residential Analysis\n",
    "\n",
    "### This script downloads census data exports county level data to an excel file and tract level data to shapefiles.\n",
    "\n",
    "## TO DO \n",
    "- Methodize Scripts\n"
   ]
  },
  {
   "cell_type": "code",
   "execution_count": 1,
   "metadata": {},
   "outputs": [],
   "source": [
    "# Import necessary libraries\n",
    "\n",
    "import requests\n",
    "import pandas as pd\n",
    "import geopandas as gpd\n",
    "import numpy as np\n",
    "import folium\n",
    "import os\n"
   ]
  },
  {
   "cell_type": "code",
   "execution_count": 2,
   "metadata": {},
   "outputs": [],
   "source": [
    "# FIPS CODES\n",
    "Multnomah = \"051\"\n",
    "Oregon =\"41\"\n",
    "\n",
    "# For each iteration change the county\n",
    "county = Multnomah\n",
    "state = Oregon"
   ]
  },
  {
   "cell_type": "code",
   "execution_count": 8,
   "metadata": {},
   "outputs": [
    {
     "name": "stdout",
     "output_type": "stream",
     "text": [
      "Census Block Group Geographies filepath is correct:  True\n"
     ]
    }
   ],
   "source": [
    "# Block Group Geographies\n",
    "block_groups_shp = \"/Users/calvindechicago/Documents/GitHub/JWA_2021/cartographic_tracts_oregon/cb_2018_41_bg_500k/cb_2018_41_bg_500k.shp\"\n",
    "print(\"Census Block Group Geographies filepath is correct: \", os.path.isfile(census_tracts_shp))\n",
    "\n",
    "\n",
    "# Set Census Geography level (select all tracts or all block groups) \n",
    "# This will be used throughout code to pull either tract or block group data\n",
    "census_geo_string = \"block group\"\n",
    "#census_geo_string = \"tract\"\n",
    "\n",
    "#Set output filepaths\n",
    "Equity_Tracts = f'/Users/calvindechicago/Documents/GitHub/JWA_2021/code_outputs/equity_tracts_{county}.gpkg'\n",
    "BG_Pop = f'/Users/calvindechicago/Documents/GitHub/JWA_2021/code_outputs/bg_pop_{county}.gpkg'\n",
    "EXCEL_FP = f'/Users/calvindechicago/Documents/GitHub/JWA_2021/code_outputs/countylevel_demographics_{county}.xlsx'"
   ]
  },
  {
   "cell_type": "code",
   "execution_count": 9,
   "metadata": {},
   "outputs": [],
   "source": [
    "# These are all of the main variables used to build a call url to the the census api website\n",
    "# Available APIs (--> 2018 ACS Detailed Tables Variables [ html | xml | json ])\n",
    "# https://www.census.gov/data/developers/data-sets.html\n",
    "# SETUP FOR TABLE B01003: Total Population\n",
    "# Create Block Group Populations\n",
    "# TABLE: B01003_001E\n",
    "\n",
    "HOST = \"https://api.census.gov/data\"\n",
    "year = \"2019\"\n",
    "dataset = \"acs/acs5\"\n",
    "api_key = \"f9e79198302081250c07d556f35d8a81cdae528a\"\n",
    "base_url = \"/\".join([HOST, year, dataset,])"
   ]
  },
  {
   "cell_type": "code",
   "execution_count": 10,
   "metadata": {},
   "outputs": [],
   "source": [
    "# BUILD API REQUEST \n",
    "# Only 50 variables per request are permitted.\n",
    "\n",
    "request_predicates = {}\n",
    "get_vars_age = [\"NAME\", \"B01003_001E\",\"GEO_ID\"]\n",
    "\n",
    "col_bg_pop = [\"name_string\",\"total_pop\",\"geoid\",\"state\", \"county\", \"tract\", \"block_group\"]\n",
    "\n",
    "request_predicates[\"key\"] = api_key\n",
    "request_predicates[\"get\"] = \",\".join(get_vars_age)\n",
    "\n",
    "#THESE PREDICATES GET DATA FOR EVERY BLOCK GROUP IN COUNTY\n",
    "\n",
    "request_predicates[\"for\"] = f\"block group:*\"\n",
    "request_predicates[\"in\"] = f\"state:{state}+county:{county}\"\n",
    "\n",
    "# Build Census API Request\n",
    "bg_pop = requests.get(base_url, params=request_predicates)\n"
   ]
  },
  {
   "cell_type": "code",
   "execution_count": 11,
   "metadata": {},
   "outputs": [],
   "source": [
    "#Setting up Block Group Population data frame, getting rid of first header row\n",
    "df_bg_pop = pd.DataFrame(columns=col_bg_pop, data=bg_pop.json()[1:])\n"
   ]
  },
  {
   "cell_type": "code",
   "execution_count": 12,
   "metadata": {},
   "outputs": [],
   "source": [
    "#The geoid field in the df_transpo_mode table does not match the Tigerlines geoid field. \n",
    "#This slices the the right 11 most digits, which match the geoid codes in the TigerLine file. \n",
    "#(... these are state ('06') for California, followed by county, followed by census tract)\n",
    "num_columns = df_bg_pop.shape[1]\n",
    "\n",
    "df_bg_pop.insert(num_columns, \"geoid_join\", df_bg_pop['geoid'].str.slice(start=9), True) \n"
   ]
  },
  {
   "cell_type": "code",
   "execution_count": 13,
   "metadata": {},
   "outputs": [],
   "source": [
    "# Join the census data to Tigerline Cartographic Boundary block group geometries. \n",
    "# Census Tract Tigerline California block group\n",
    "\n",
    "\n",
    "#This reads the census tracts shapefile into a geodataframe\n",
    "bg_gdf = gpd.read_file(block_groups_shp)\n",
    "\n",
    "#Make tigerline boundary columns lowercase\n",
    "bg_gdf.columns = map(str.lower, bg_gdf.columns)"
   ]
  },
  {
   "cell_type": "code",
   "execution_count": 14,
   "metadata": {},
   "outputs": [],
   "source": [
    "# Filter to only include Multnomah County\n",
    "bg_gdf = bg_gdf[bg_gdf['countyfp']=='051']"
   ]
  },
  {
   "cell_type": "code",
   "execution_count": 15,
   "metadata": {},
   "outputs": [],
   "source": [
    "# Merge block group geographies data with the population data produced in earlier steps\n",
    "final_bg_pop = bg_gdf.merge(df_bg_pop,left_on='affgeoid',right_on='geoid')"
   ]
  },
  {
   "cell_type": "code",
   "execution_count": null,
   "metadata": {},
   "outputs": [],
   "source": [
    "# Export File\n",
    "final_bg_pop.to_file(BG_Pop, layer='BG_Pop', driver=\"GPKG\")"
   ]
  }
 ],
 "metadata": {
  "kernelspec": {
   "display_name": "Python 3 (ipykernel)",
   "language": "python",
   "name": "python3"
  },
  "language_info": {
   "codemirror_mode": {
    "name": "ipython",
    "version": 3
   },
   "file_extension": ".py",
   "mimetype": "text/x-python",
   "name": "python",
   "nbconvert_exporter": "python",
   "pygments_lexer": "ipython3",
   "version": "3.10.1"
  }
 },
 "nbformat": 4,
 "nbformat_minor": 4
}
