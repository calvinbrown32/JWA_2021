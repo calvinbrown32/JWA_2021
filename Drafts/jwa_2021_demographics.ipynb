{
 "cells": [
  {
   "cell_type": "code",
   "execution_count": null,
   "metadata": {},
   "outputs": [],
   "source": [
    "# Block Group Census Population Download for Trimet Residential Analysis\n",
    "\n",
    "## This script downloads census data exports county level data to an excel file and tract level data to shapefiles.\n",
    "\n",
    "\n",
    "\n",
    "## TO DO \n",
    "- Methodize Scripts\n",
    "- Further simplify/aggregate countywide stat excel outputs. \n",
    "- MHI column is exported as text instead of int. Fix data type\n"
   ]
  },
  {
   "cell_type": "code",
   "execution_count": null,
   "metadata": {},
   "outputs": [],
   "source": [
    "#import necessary libraries\n",
    "\n",
    "import requests\n",
    "import pandas as pd\n",
    "import geopandas as gpd\n",
    "import numpy as np\n",
    "# import geojson\n",
    "import folium\n",
    "import os\n"
   ]
  },
  {
   "cell_type": "code",
   "execution_count": null,
   "metadata": {},
   "outputs": [],
   "source": [
    "# FIPS CODES\n",
    "Multnomah = \"051\"\n",
    "Oregon =\"41\"\n",
    "\n",
    "#For each iteration change the county\n",
    "county = Multnomah\n",
    "state = Oregon"
   ]
  },
  {
   "cell_type": "code",
   "execution_count": null,
   "metadata": {},
   "outputs": [],
   "source": [
    "# Census Tract Geographies\n",
    "census_tracts_shp = '/Users/calvindechicago/Documents/GitHub/JWA_2021/cartographic_tracts_oregon/cb_2018_41_tract_500k.shp'\n",
    "# Verify that filepath is correct\n",
    "print(os.path.isfile(census_tracts_shp))\n",
    "\n",
    "# Block Group Geographies\n",
    "block_groups_shp = \"/Users/calvindechicago/Documents/GitHub/JWA_2021/cartographic_tracts_oregon/cb_2018_41_bg_500k/cb_2018_41_bg_500k.shp\"\n",
    "\n",
    "# Set Census Geography level (select all tracts or all block groups) \n",
    "# This will be used throughout code to pull either tract or block group data\n",
    "census_geo = block_groups\n",
    "#census_geo_string = \"block group\"\n",
    "census_geo_string = \"tract\"\n",
    "\n",
    "#Set output filepaths\n",
    "Equity_Tracts = f'/Users/calvindechicago/Documents/GitHub/JWA_2021/code_outputs/equity_tracts_{county}.gpkg'\n",
    "BG_Pop = f'/Users/calvindechicago/Documents/GitHub/JWA_2021/code_outputs/bg_pop_{county}.gpkg'\n",
    "EXCEL_FP = f'/Users/calvindechicago/Documents/GitHub/JWA_2021/code_outputs/countylevel_demographics_{county}.xlsx'"
   ]
  },
  {
   "cell_type": "code",
   "execution_count": null,
   "metadata": {},
   "outputs": [],
   "source": [
    "#These are all of the main variables used to build a call url to the the census api website\n",
    "#Available APIs (--> 2018 ACS Detailed Tables Variables [ html | xml | json ])\n",
    "#https://www.census.gov/data/developers/data-sets.html\n",
    "\n",
    "HOST = \"https://api.census.gov/data\"\n",
    "year = \"2019\"\n",
    "#dataset = \"acs/acs5/subject\"\n",
    "dataset = \"acs/acs5\"\n",
    "api_key = \"f9e79198302081250c07d556f35d8a81cdae528a\"\n",
    "base_url = \"/\".join([HOST, year, dataset,])"
   ]
  },
  {
   "cell_type": "code",
   "execution_count": null,
   "metadata": {},
   "outputs": [],
   "source": [
    "# Setup request for Table B08006: Sex of Workers by Means of Transportation to Work\n",
    "# Setup request for Table B08014: SEX OF WORKERS BY VEHICLES AVAILABLE (Total and No vehicle columns only)\n",
    "# (COUNTY LEVEL)\n",
    "request_predicates = {}\n",
    "get_vars_transpo_mode = [\"NAME\",\"B08006_001E\",\"B08006_002E\",\"B08006_003E\", \"B08006_004E\",\n",
    "                         \"B08006_008E\",\"B08006_014E\",\"B08006_015E\",\"B08006_016E\", \n",
    "                         \"B08006_017E\", \"GEO_ID\", \"B08014_001E\", \"B08014_002E\" \n",
    "                        ]\n",
    "col_names_transpo_mode = [\"place_name\", \"total\",\"total_car_truck_van\",\n",
    "                          \"car_truck_van_drove_alone\",\"car_truck_van_carpooled\",\n",
    "                          \"public_transportation\", \"bike\", \"walk\", \"taxi_moto_other\",\n",
    "                          \"work_from_home\",\"geoid\", \"total_workers\", \"no_vehicle\",\n",
    "                          \"state_code\", \"county\"\n",
    "                         ]\n",
    "\n",
    "request_predicates[\"key\"] = api_key\n",
    "request_predicates[\"get\"] = \",\".join(get_vars_transpo_mode)\n",
    "\n",
    "\n",
    "#THESE PREDICATES GET AGGREGATE TOTALS FOR ENTIRE COUNTY\n",
    "request_predicates[\"for\"] = f\"county:{county}\"  \n",
    "request_predicates[\"in\"] = f\"state:{state}\"\n",
    "\n",
    "transpo_mode_county = requests.get(base_url, params=request_predicates)\n",
    "num_columns = 15"
   ]
  },
  {
   "cell_type": "code",
   "execution_count": null,
   "metadata": {},
   "outputs": [],
   "source": [
    "#Setting up Means of Transportation to Workdata frame, getting rid of first header row\n",
    "df_transpo_mode_county = pd.DataFrame(columns=col_names_transpo_mode, data=transpo_mode_county.json()[1:])"
   ]
  },
  {
   "cell_type": "code",
   "execution_count": null,
   "metadata": {},
   "outputs": [],
   "source": [
    "# THESE PREDICATES GET DATA FOR EVERY TRACT OR BLOCK GROUP in County\n",
    "# These revised predicates replace the 'for' and 'in' predicates above.\n",
    "#(TRACT LEVEL)\n",
    "\n",
    "request_predicates[\"for\"] = f\"{census_geo_string}:*\"\n",
    "#request_predicates[\"in\"] = \"state:06+county:067\"\n",
    "request_predicates[\"in\"] = f\"state:{state}+county:{county}\"\n",
    "\n",
    "transpo_mode_tracts = requests.get(base_url, params=request_predicates)\n",
    "\n"
   ]
  },
  {
   "cell_type": "code",
   "execution_count": null,
   "metadata": {},
   "outputs": [],
   "source": [
    "#Setting up Means of Transportation to Work at Tract Level data frame, getting rid of first header row\n",
    "#This includes appending 'tract' to columns list\n",
    "col_names_transpo_mode = [\"place_name\", \"total\",\"total_car_truck_van\",\n",
    "                          \"car_truck_van_drove_alone\",\"car_truck_van_carpooled\",\n",
    "                          \"public_transportation\", \"bike\", \"walk\", \"taxi_moto_other\",\n",
    "                          \"work_from_home\",\"geoid\", \"total_workers\", \"no_vehicle\",\"state_code\",\n",
    "                          \"county\", \"tract\" \n",
    "                         ]\n",
    "\n",
    "\n",
    "df_transpo_mode_tracts = pd.DataFrame(columns=col_names_transpo_mode, data=transpo_mode_tracts.json()[1:])\n",
    "num_columns = 16"
   ]
  },
  {
   "cell_type": "code",
   "execution_count": null,
   "metadata": {},
   "outputs": [],
   "source": [
    "dtype_conversion = { \"total\": int,\n",
    "                    \"total_car_truck_van\": int,\n",
    "                    \"car_truck_van_drove_alone\": int,\n",
    "                    \"car_truck_van_carpooled\": int,\n",
    "                    \"public_transportation\": int,\n",
    "                    \"bike\": int,\n",
    "                    \"walk\": int, \n",
    "                    \"taxi_moto_other\": int, \n",
    "                    \"work_from_home\": int, \n",
    "                    \"total_workers\": int, \n",
    "                    \"no_vehicle\": int\n",
    "                }\n",
    "\n",
    "df_transpo_mode_tracts = df_transpo_mode_tracts.astype(dtype_conversion) "
   ]
  },
  {
   "cell_type": "code",
   "execution_count": null,
   "metadata": {},
   "outputs": [],
   "source": [
    "df_transpo_mode_tracts[\"pct_no_veh\"] = (df_transpo_mode_tracts[\"no_vehicle\"]/df_transpo_mode_tracts[\"total_workers\"]*100)"
   ]
  },
  {
   "cell_type": "code",
   "execution_count": null,
   "metadata": {},
   "outputs": [],
   "source": [
    "#The geoid field in the df_transpo_mode table does not match the Tigerlines geoid field. \n",
    "#This slices the the right 11 most digits, which match the geoid codes in the TigerLine file. \n",
    "#(... these are state ('06') for California, followed by county, followed by census tract)\n",
    "\n",
    "df_transpo_mode_tracts.insert(num_columns, \"geoid_join\",df_transpo_mode_tracts['geoid'].str.slice(-11), True) \n",
    "\n"
   ]
  },
  {
   "cell_type": "code",
   "execution_count": null,
   "metadata": {},
   "outputs": [],
   "source": [
    "## SETUP FOR TABLE B08001: SEX BY AGE\n",
    "#NAME dropped from request because only 50 variables per request are permitted.\n",
    "request_predicates = {}\n",
    "get_vars_age = [\"B01001_001E\", \"B01001_002E\",\"B01001_003E\", \"B01001_004E\",\"B01001_005E\", \n",
    "                \"B01001_006E\", \"B01001_007E\",\"B01001_008E\", \"B01001_009E\",\"B01001_010E\", \n",
    "                \"B01001_011E\", \"B01001_012E\",\"B01001_013E\", \"B01001_014E\",\"B01001_015E\", \n",
    "                \"B01001_016E\", \"B01001_017E\",\"B01001_018E\", \"B01001_019E\",\"B01001_020E\", \n",
    "                \"B01001_021E\", \"B01001_022E\",\"B01001_023E\", \"B01001_024E\",\"B01001_025E\", \n",
    "                \"B01001_026E\", \"B01001_027E\",\"B01001_028E\", \"B01001_029E\",\"B01001_030E\", \n",
    "                \"B01001_031E\", \"B01001_032E\",\"B01001_033E\", \"B01001_034E\",\"B01001_035E\", \n",
    "                \"B01001_036E\", \"B01001_037E\",\"B01001_038E\", \"B01001_039E\",\"B01001_040E\", \n",
    "                \"B01001_041E\", \"B01001_042E\",\"B01001_043E\", \"B01001_044E\",\"B01001_045E\", \n",
    "                \"B01001_046E\", \"B01001_047E\",\"B01001_048E\", \"B01001_049E\",\"GEO_ID\"\n",
    "                ]\n",
    "\n",
    "col_names_age = [\"total_pop\",\"total_male\",\"tl_m0_5\",\"tl_m5_9\", \"tl_m10_14\", \"tl_m15_17\", \n",
    "                 \"tl_m18_19\", \"tl_m20\", \"tl_m21\", \"tl_m22_24\", \"tl_m25_29\", \"tl_m30_34\",\n",
    "                 \"tl_m35_39\", \"tl_m40_44\", \"tl_m45_49\", \"tl_m50_54\", \"tl_m55_59\", \"tl_m60_61\",\n",
    "                 \"tl_m62_64\", \"tl_m65_66\", \"tl_m67_69\", \"tl_m70_74\", \"tl_m75_79\", \"tl_m80_84\",\n",
    "                 \"tl_m85_pl\",\"total_female\", \"tl_f0_5\",\"tl_f5_9\", \"tl_f10_14\", \"tl_f15_17\", \n",
    "                 \"tl_f18_19\", \"tl_f20\", \"tl_f21\", \"tl_f22_24\", \"tl_f25_29\", \"tl_f30_34\",\n",
    "                 \"tl_f35_39\", \"tl_f40_44\", \"tl_f45_49\", \"tl_f50_54\", \"tl_f55_59\", \"tl_f60_61\",\n",
    "                 \"tl_f62_64\", \"tl_f65_66\", \"tl_f67_69\", \"tl_f70_74\", \"tl_f75_79\", \"tl_f80_84\",\n",
    "                 \"tl_f85_pl\",\"geoid\",\"state\",\"county\"\n",
    "                ]\n",
    "\n",
    "request_predicates[\"key\"] = api_key\n",
    "request_predicates[\"get\"] = \",\".join(get_vars_age)\n",
    "\n",
    "#THESE PREDICATES GET AGGREGATE TOTALS FOR ENTIRE COUNTY\n",
    "request_predicates[\"for\"] = f\"county:{county}\"\n",
    "request_predicates[\"in\"] = f\"state:{state}\"\n",
    "\n",
    "\n",
    "age_county = requests.get(base_url, params=request_predicates)\n",
    "num_columns = 49"
   ]
  },
  {
   "cell_type": "code",
   "execution_count": null,
   "metadata": {},
   "outputs": [],
   "source": [
    "#Setting up AGE data frame, getting rid of first header row\n",
    "df_age_county = pd.DataFrame(columns=col_names_age, data=age_county.json()[1:])"
   ]
  },
  {
   "cell_type": "code",
   "execution_count": null,
   "metadata": {},
   "outputs": [],
   "source": [
    "# THESE PREDICATES GET DATA FOR EVERY TRACT\n",
    "\n",
    "request_predicates[\"for\"] = f\"{census_geo_string}:*\"\n",
    "request_predicates[\"in\"] = f\"state:{state}+county:{county}\"\n",
    "\n",
    "age_tracts = requests.get(base_url, params=request_predicates)\n",
    "num_columns = 50"
   ]
  },
  {
   "cell_type": "code",
   "execution_count": null,
   "metadata": {},
   "outputs": [],
   "source": [
    "#Setting up AGE TRACTS data frame, getting rid of first header row\n",
    "col_names_age = [\"total_pop\",\"total_male\",\"tl_m0_5\",\"tl_m5_9\", \"tl_m10_14\", \"tl_m15_17\", \n",
    "                 \"tl_m18_19\", \"tl_m20\", \"tl_m21\", \"tl_m22_24\", \"tl_m25_29\", \"tl_m30_34\",\n",
    "                 \"tl_m35_39\", \"tl_m40_44\", \"tl_m45_49\", \"tl_m50_54\", \"tl_m55_59\", \"tl_m60_61\",\n",
    "                 \"tl_m62_64\", \"tl_m65_66\", \"tl_m67_69\", \"tl_m70_74\", \"tl_m75_79\", \"tl_m80_84\",\n",
    "                 \"tl_m85_pl\",\"total_female\", \"tl_f0_5\",\"tl_f5_9\", \"tl_f10_14\", \"tl_f15_17\", \n",
    "                 \"tl_f18_19\", \"tl_f20\", \"tl_f21\", \"tl_f22_24\", \"tl_f25_29\", \"tl_f30_34\",\n",
    "                 \"tl_f35_39\", \"tl_f40_44\", \"tl_f45_49\", \"tl_f50_54\", \"tl_f55_59\", \"tl_f60_61\",\n",
    "                 \"tl_f62_64\", \"tl_f65_66\", \"tl_f67_69\", \"tl_f70_74\", \"tl_f75_79\", \"tl_f80_84\",\n",
    "                 \"tl_f85_pl\",\"geoid\",\"state\",\"county\", 'tract'\n",
    "                ]\n",
    "df_age_tracts = pd.DataFrame(columns=col_names_age, data=age_tracts.json()[1:])"
   ]
  },
  {
   "cell_type": "code",
   "execution_count": null,
   "metadata": {},
   "outputs": [],
   "source": [
    "# Use dictionary to convert specific columns \n",
    "\n",
    "dtype_conversion = { \"total_pop\": int,\n",
    "                    \"total_male\": int,\n",
    "                    \"tl_m0_5\": int,\n",
    "                    \"tl_m5_9\": int,\n",
    "                    \"tl_m10_14\": int,\n",
    "                    \"tl_m15_17\": int,\n",
    "                    \"tl_m18_19\": int, \n",
    "                    \"tl_m20\": int, \n",
    "                    \"tl_m21\": int, \n",
    "                    \"tl_m22_24\": int, \n",
    "                    \"tl_m25_29\": int, \n",
    "                    \"tl_m30_34\": int,\n",
    "                    \"tl_m35_39\": int, \n",
    "                    \"tl_m40_44\": int, \n",
    "                    \"tl_m45_49\": int, \n",
    "                    \"tl_m50_54\": int, \n",
    "                    \"tl_m55_59\": int, \n",
    "                    \"tl_m60_61\": int,\n",
    "                    \"tl_m62_64\": int, \n",
    "                    \"tl_m65_66\": int, \n",
    "                    \"tl_m67_69\": int, \n",
    "                    \"tl_m70_74\": int, \n",
    "                    \"tl_m75_79\": int, \n",
    "                    \"tl_m80_84\": int,\n",
    "                    \"tl_m85_pl\": int,\n",
    "                    \"total_female\": int, \n",
    "                    \"tl_f0_5\": int,\n",
    "                    \"tl_f5_9\": int,\n",
    "                    \"tl_f10_14\": int,\n",
    "                    \"tl_f15_17\": int,\n",
    "                    \"tl_f18_19\": int,\n",
    "                    \"tl_f20\": int,\n",
    "                    \"tl_f21\": int,\n",
    "                    \"tl_f22_24\": int,\n",
    "                    \"tl_f25_29\": int,\n",
    "                    \"tl_f30_34\": int,\n",
    "                    \"tl_f35_39\": int,\n",
    "                    \"tl_f40_44\": int,\n",
    "                    \"tl_f45_49\": int,\n",
    "                    \"tl_f50_54\": int,\n",
    "                    \"tl_f55_59\": int,\n",
    "                    \"tl_f60_61\": int,\n",
    "                    \"tl_f62_64\": int,\n",
    "                    \"tl_f65_66\": int,\n",
    "                    \"tl_f67_69\": int,\n",
    "                    \"tl_f70_74\": int,\n",
    "                    \"tl_f75_79\": int,\n",
    "                    \"tl_f80_84\": int,\n",
    "                    \"tl_f85_pl\": int,\n",
    "                    \"county\": int,\n",
    "                    'tract': int\n",
    "                }\n",
    "df_age_tracts = df_age_tracts.astype(dtype_conversion) "
   ]
  },
  {
   "cell_type": "code",
   "execution_count": null,
   "metadata": {},
   "outputs": [],
   "source": [
    "age_18_under = df_age_tracts[\"tl_m0_5\"] + df_age_tracts[\"tl_f0_5\"] + df_age_tracts[\"tl_m5_9\"] + df_age_tracts[\"tl_m10_14\"] + df_age_tracts[\"tl_m15_17\"] + df_age_tracts[\"tl_f5_9\"] + df_age_tracts[\"tl_f10_14\"] + df_age_tracts[\"tl_f15_17\"]\n",
    "\n",
    "age_65_over = df_age_tracts[\"tl_f65_66\"] + df_age_tracts[\"tl_f67_69\"] + df_age_tracts[\"tl_f70_74\"] + df_age_tracts[\"tl_f75_79\"] + df_age_tracts[\"tl_f80_84\"] + df_age_tracts[\"tl_f85_pl\"] + df_age_tracts[\"tl_m65_66\"] + df_age_tracts[\"tl_m67_69\"] + df_age_tracts[\"tl_m70_74\"] + df_age_tracts[\"tl_m75_79\"] + df_age_tracts[\"tl_m80_84\"] + df_age_tracts[\"tl_m85_pl\"]\n",
    "\n",
    "age_vulnerable = age_18_under + age_65_over\n",
    "\n"
   ]
  },
  {
   "cell_type": "code",
   "execution_count": null,
   "metadata": {},
   "outputs": [],
   "source": [
    "df_age_tracts[\"age_18_under\"] = age_18_under \n",
    "df_age_tracts[\"age_65_over\"] = age_65_over\n",
    "df_age_tracts[\"age_vulnerable\"] = age_vulnerable\n",
    "\n",
    "df_age_tracts[\"pct_age_18_under\"] = df_age_tracts[\"age_18_under\"]/df_age_tracts[\"total_pop\"]*100\n",
    "df_age_tracts[\"pct_age_65_over\"] = df_age_tracts[\"age_65_over\"]/df_age_tracts[\"total_pop\"]*100\n",
    "df_age_tracts[\"pct_age_vulnerable\"] = df_age_tracts[\"age_vulnerable\"]/df_age_tracts[\"total_pop\"]*100\n",
    "\n",
    "\n"
   ]
  },
  {
   "cell_type": "code",
   "execution_count": null,
   "metadata": {},
   "outputs": [],
   "source": [
    "df_age_tracts_simple = df_age_tracts[[\"total_pop\",\"age_18_under\",\"age_65_over\",\"age_vulnerable\", \"pct_age_18_under\",\"pct_age_65_over\",\"pct_age_vulnerable\",\"geoid\",\"state\",\"county\",\"tract\"]]"
   ]
  },
  {
   "cell_type": "code",
   "execution_count": null,
   "metadata": {},
   "outputs": [],
   "source": [
    "#Add geoid_join column \n",
    "df_age_tracts_simple.insert(8, \"geoid_join\",df_transpo_mode_tracts['geoid'].str.slice(-11), True) \n"
   ]
  },
  {
   "cell_type": "code",
   "execution_count": null,
   "metadata": {},
   "outputs": [],
   "source": [
    "#B19013 Median Household Income - TRACT\n",
    "\n",
    "# THESE PREDICATES GET DATA FOR EVERY TRACT\n",
    "#NAME dropped from request because only 50 variables per request are permitted.\n",
    "request_predicates = {}\n",
    "get_vars_mhi = [\"NAME\",\"B19013_001E\", \"GEO_ID\"\n",
    "                ]\n",
    "\n",
    "col_names_mhi = [\"place_name\", \"mhi\",\n",
    "                 \"geoid\",\"state\",\"county\", \"tract\"\n",
    "                ]\n",
    "\n",
    "request_predicates[\"key\"] = api_key\n",
    "request_predicates[\"get\"] = \",\".join(get_vars_mhi)\n",
    "\n",
    "\n",
    "\n",
    "request_predicates[\"for\"] = f\"{census_geo_string}:*\"\n",
    "request_predicates[\"in\"] = f\"state:{state}+county:{county}\"\n",
    "\n",
    "mhi_tracts = requests.get(base_url, params=request_predicates)\n",
    "num_columns = 50\n",
    "\n"
   ]
  },
  {
   "cell_type": "code",
   "execution_count": null,
   "metadata": {},
   "outputs": [],
   "source": [
    "#B19013 Median Household Income - COUNTY\n",
    "\n",
    "request_predicates = {}\n",
    "get_vars_mhi_county = [\"NAME\",\"B19013_001E\", \"GEO_ID\"\n",
    "                ]\n",
    "\n",
    "col_names_mhi_county = [\"place_name\", \"mhi\",\n",
    "                 \"geoid\",\"state\",\"county\"\n",
    "                ]\n",
    "\n",
    "request_predicates[\"key\"] = api_key\n",
    "request_predicates[\"get\"] = \",\".join(get_vars_mhi_county)\n",
    "\n",
    "\n",
    "#THESE PREDICATES GET AGGREGATE TOTALS FOR ENTIRE COUNTY (SACRAMENTO)\n",
    "#request_predicates[\"for\"] = \"county:067\" #Sacramento\n",
    "request_predicates[\"for\"] = f\"county:{county}\"  \n",
    "request_predicates[\"in\"] = f\"state:{state}\"\n",
    "\n",
    "mhi_county = requests.get(base_url, params=request_predicates)\n",
    "num_columns = 15"
   ]
  },
  {
   "cell_type": "code",
   "execution_count": null,
   "metadata": {},
   "outputs": [],
   "source": [
    "df_mhi_county = pd.DataFrame(columns=col_names_mhi_county, data=mhi_county.json()[1:])"
   ]
  },
  {
   "cell_type": "code",
   "execution_count": null,
   "metadata": {},
   "outputs": [],
   "source": [
    "#Setting up AGE data frame, getting rid of first header row\n",
    "df_mhi = pd.DataFrame(columns=col_names_mhi, data=mhi_tracts.json()[1:])"
   ]
  },
  {
   "cell_type": "code",
   "execution_count": null,
   "metadata": {},
   "outputs": [],
   "source": [
    "df_mhi.insert(6, \"geoid_join\",df_mhi['geoid'].str.slice(-11), True) \n"
   ]
  },
  {
   "cell_type": "code",
   "execution_count": null,
   "metadata": {},
   "outputs": [],
   "source": [
    "\n",
    "df_age_simplified = df_age_tracts_simple[['total_pop', 'age_18_under', 'age_65_over', 'age_vulnerable',\n",
    "       'pct_age_18_under', 'pct_age_65_over', 'pct_age_vulnerable',\n",
    "       'geoid_join']]\n"
   ]
  },
  {
   "cell_type": "code",
   "execution_count": null,
   "metadata": {},
   "outputs": [],
   "source": [
    "\n",
    "#df_transpo_mode_tracts\n",
    "df_mhi_simplified = df_mhi[['mhi','geoid_join']]\n"
   ]
  },
  {
   "cell_type": "code",
   "execution_count": null,
   "metadata": {},
   "outputs": [],
   "source": [
    "#Convert MHI value to numeric type\n",
    "df_mhi_simplified.loc[:,\"mhi\"] = df_mhi_simplified.mhi.apply(pd.to_numeric)"
   ]
  },
  {
   "cell_type": "code",
   "execution_count": null,
   "metadata": {},
   "outputs": [],
   "source": [
    "# Merge equity Tracts\n",
    "transpo_mhi = pd.merge(df_transpo_mode_tracts, df_mhi_simplified, on=\"geoid_join\")\n",
    "\n",
    "\n",
    "\n"
   ]
  },
  {
   "cell_type": "code",
   "execution_count": null,
   "metadata": {},
   "outputs": [],
   "source": [
    "transpo_mhi_age = pd.merge(transpo_mhi,df_age_simplified,  on= \"geoid_join\" )\n"
   ]
  },
  {
   "cell_type": "code",
   "execution_count": null,
   "metadata": {},
   "outputs": [],
   "source": [
    "# Join the census data to Tigerline Cartographic Boundary census tract geometries. \n",
    "# Census Tract Tigerline California Census Tracts location (ftp url included in notes below)\n",
    "\n",
    "\n",
    "\n",
    "#This reads the census tracts shapefile into a geodataframe\n",
    "gdf = gpd.read_file(census_tracts_shp)\n",
    "\n",
    "#Make tigerline boundary columns lowercase\n",
    "gdf.columns = map(str.lower, gdf.columns)\n"
   ]
  },
  {
   "cell_type": "code",
   "execution_count": null,
   "metadata": {},
   "outputs": [],
   "source": [
    "# Merge tract geographies data with the data produced in earlier steps\n",
    "\n",
    "final_equity_geom = gdf.merge(transpo_mhi_age,left_on='geoid',right_on='geoid_join')\n"
   ]
  },
  {
   "cell_type": "code",
   "execution_count": null,
   "metadata": {},
   "outputs": [],
   "source": [
    "# Export to geopackage\n",
    "# countries_gdf.to_file(\"package.gpkg\", layer='countries', driver=\"GPKG\")\n",
    "\n",
    "final_equity_geom.to_file(Equity_Tracts, layer='equity_tracts', driver=\"GPKG\")"
   ]
  },
  {
   "cell_type": "code",
   "execution_count": null,
   "metadata": {},
   "outputs": [],
   "source": [
    "#Export county level dataframes to excel\n",
    "\n",
    "with pd.ExcelWriter(EXCEL_FP) as writer:\n",
    "    df_age_county.to_excel(writer, sheet_name='county_age')\n",
    "    df_transpo_mode_county.to_excel(writer, sheet_name='county_transpo_mode')\n",
    "    df_mhi_county.to_excel(writer, sheet_name='county_mhi')\n",
    "\n",
    "# OTHER EXAMPLES FOUND WHILE TROUBLESHOOTING\n",
    "# with pd.ExcelWriter(\"test.xlsx\", engine='openpyxl', mode='a') as writer:\n",
    "#     df.to_excel(writer)\n",
    "# with pd.ExcelWriter(Excel_FP) as writer:\n",
    "#     bike_crashes_by_year.to_excel(writer, sheet_name='b_crashes_by_year')"
   ]
  },
  {
   "cell_type": "code",
   "execution_count": null,
   "metadata": {},
   "outputs": [],
   "source": [
    "## SETUP FOR TABLE B01003: Total Population\n",
    "# Create Block Group Populations\n",
    "# TABLE: B01003_001E\n",
    "\n",
    "HOST = \"https://api.census.gov/data\"\n",
    "year = \"2015\"\n",
    "dataset = \"acs/acs5\"\n",
    "api_key = \"f9e79198302081250c07d556f35d8a81cdae528a\"\n",
    "base_url = \"/\".join([HOST, year, dataset,])"
   ]
  },
  {
   "cell_type": "code",
   "execution_count": null,
   "metadata": {},
   "outputs": [],
   "source": [
    "\n",
    "# Only 50 variables per request are permitted.\n",
    "\n",
    "request_predicates = {}\n",
    "get_vars_age = [\"NAME\", \"B01003_001E\",\"GEO_ID\"]\n",
    "\n",
    "col_bg_pop = [\"name_string\",\"total_pop\",\"geoid\",\"state\", \"county\", \"tract\", \"block_group\"]\n",
    "\n",
    "request_predicates[\"key\"] = api_key\n",
    "request_predicates[\"get\"] = \",\".join(get_vars_age)\n",
    "\n",
    "#THESE PREDICATES GET DATA FOR EVERY BLOCK GROUP IN COUNTY\n",
    "\n",
    "request_predicates[\"for\"] = f\"block group:*\"\n",
    "request_predicates[\"in\"] = f\"state:{state}+county:{county}\"\n",
    "\n",
    "\n",
    "bg_pop = requests.get(base_url, params=request_predicates)\n"
   ]
  },
  {
   "cell_type": "code",
   "execution_count": null,
   "metadata": {},
   "outputs": [],
   "source": [
    "\n",
    "\n",
    "#Setting up Block Group Population data frame, getting rid of first header row\n",
    "df_bg_pop = pd.DataFrame(columns=col_bg_pop, data=bg_pop.json()[1:])\n",
    "\n",
    "\n"
   ]
  },
  {
   "cell_type": "code",
   "execution_count": null,
   "metadata": {},
   "outputs": [],
   "source": [
    "#The geoid field in the df_transpo_mode table does not match the Tigerlines geoid field. \n",
    "#This slices the the right 11 most digits, which match the geoid codes in the TigerLine file. \n",
    "#(... these are state ('06') for California, followed by county, followed by census tract)\n",
    "num_columns = df_bg_pop.shape[1]\n",
    "\n",
    "df_bg_pop.insert(num_columns, \"geoid_join\", df_bg_pop['geoid'].str.slice(start=9), True) \n"
   ]
  },
  {
   "cell_type": "code",
   "execution_count": null,
   "metadata": {},
   "outputs": [],
   "source": [
    "df_bg_pop"
   ]
  },
  {
   "cell_type": "code",
   "execution_count": null,
   "metadata": {},
   "outputs": [],
   "source": [
    "df_bg_pop.shape"
   ]
  },
  {
   "cell_type": "code",
   "execution_count": null,
   "metadata": {},
   "outputs": [],
   "source": [
    "df_bg_pop[df_bg_pop['geoid_join']==410510072023]"
   ]
  },
  {
   "cell_type": "code",
   "execution_count": null,
   "metadata": {},
   "outputs": [],
   "source": [
    "# Join the census data to Tigerline Cartographic Boundary block group geometries. \n",
    "# Census Tract Tigerline California block group location (ftp url included in notes below)\n",
    "\n",
    "\n",
    "#This reads the census tracts shapefile into a geodataframe\n",
    "bg_gdf = gpd.read_file(block_groups_shp)\n",
    "\n",
    "#Make tigerline boundary columns lowercase\n",
    "bg_gdf.columns = map(str.lower, bg_gdf.columns)"
   ]
  },
  {
   "cell_type": "code",
   "execution_count": null,
   "metadata": {},
   "outputs": [],
   "source": [
    "bg_gdf = bg_gdf[bg_gdf['countyfp']=='051']\n"
   ]
  },
  {
   "cell_type": "code",
   "execution_count": null,
   "metadata": {},
   "outputs": [],
   "source": [
    "bg_gdf"
   ]
  },
  {
   "cell_type": "code",
   "execution_count": null,
   "metadata": {},
   "outputs": [],
   "source": [
    "bg_gdf.sort_values(by=['geoid'],ascending=True)"
   ]
  },
  {
   "cell_type": "code",
   "execution_count": null,
   "metadata": {},
   "outputs": [],
   "source": [
    "# Merge block group geographies data with the population data produced in earlier steps\n",
    "\n",
    "final_bg_pop = bg_gdf.merge(df_bg_pop,left_on='affgeoid',right_on='geoid')"
   ]
  },
  {
   "cell_type": "code",
   "execution_count": null,
   "metadata": {},
   "outputs": [],
   "source": [
    "final_bg_pop.shape"
   ]
  },
  {
   "cell_type": "code",
   "execution_count": null,
   "metadata": {},
   "outputs": [],
   "source": [
    "final_bg_pop.plot()"
   ]
  },
  {
   "cell_type": "code",
   "execution_count": null,
   "metadata": {},
   "outputs": [],
   "source": [
    "final_bg_pop.to_file(BG_Pop, layer='BG_Pop', driver=\"GPKG\")"
   ]
  }
 ],
 "metadata": {
  "kernelspec": {
   "display_name": "Python 3 (ipykernel)",
   "language": "python",
   "name": "python3"
  },
  "language_info": {
   "codemirror_mode": {
    "name": "ipython",
    "version": 3
   },
   "file_extension": ".py",
   "mimetype": "text/x-python",
   "name": "python",
   "nbconvert_exporter": "python",
   "pygments_lexer": "ipython3",
   "version": "3.10.1"
  }
 },
 "nbformat": 4,
 "nbformat_minor": 4
}
