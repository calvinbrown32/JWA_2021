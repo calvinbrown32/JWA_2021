{
 "cells": [
  {
   "cell_type": "markdown",
   "metadata": {},
   "source": [
    "# Residential Coverage Analysis \n",
    "\n",
    "\"\"\"This Script uses the sample-project environment, with the osmnx module updated.\n",
    "To update the osmnx module within the sample-project environment, I ran the following\n",
    "conda commands in the terminal:\n",
    "\n",
    "1)Duplicate the sample-project environment:\n",
    "conda create --name sample-project_2  --clone sample-project\n",
    "\n",
    "2)Update osmnx:\n",
    "conda update osmnx\n",
    "\n",
    "This script creates a place boundary and downloads the pois within that polygon. Next, it downloads network data:\n",
    "osm edges and nodes and exports this to a geopackage.\n",
    "\"\"\""
   ]
  },
  {
   "cell_type": "markdown",
   "metadata": {},
   "source": [
    "### OSMNX ISOCHRONE GUIDE\n",
    "- https://github.com/gboeing/osmnx-examples/blob/main/notebooks/13-isolines-isochrones.ipynb\n",
    "- UHELSKINKI AUTOGIS and Network Analysis:\n",
    "- https://autogis-site.readthedocs.io/en/latest/notebooks/L6/01_network_analysis.html\n",
    "##### See Also:\n",
    "- https://pythoncharmers.com/blog/travel-distance-python-with-geopandas-folium-alphashape-osmnx-buffer.html\n",
    "- http://kuanbutts.com/2017/12/16/osmnx-isochrones/\n",
    "\n",
    "Created code to do the following:\n",
    "- Create OSMNX network\n",
    "- Create isochrones that approximate .5 miles using network analysis\n",
    "- Produce dissolved Isochrones areas for each transit route \n",
    "- Divide dissolved isochrone areas into voronoi polygons for each transit route. \n",
    "- Create intersection of voronoi polygons and the block group areas that fall within them. \n",
    "- Calculate the proportion of block group area that falls within isochrone/ Voronoi polygon area. \n",
    "- Multiply the block group total population figure by the proportion of area within the isochrone. \n",
    "- Sum the calculated population within isochrone estimates and sum these population figures for all of \n",
    "  the intersecting, clipped block group areas within each voronoi polygon. "
   ]
  },
  {
   "cell_type": "code",
   "execution_count": 46,
   "metadata": {},
   "outputs": [
    {
     "name": "stdout",
     "output_type": "stream",
     "text": [
      "2021-12-29 23:15:59 Configured OSMnx 1.1.2\n",
      "2021-12-29 23:15:59 HTTP response caching is on\n"
     ]
    },
    {
     "data": {
      "text/plain": [
       "'1.1.2'"
      ]
     },
     "execution_count": 46,
     "metadata": {},
     "output_type": "execute_result"
    }
   ],
   "source": [
    "import os\n",
    "import geopandas as gpd\n",
    "import osmnx as ox\n",
    "import matplotlib.pyplot as plt\n",
    "import networkx as nx\n",
    "import fiona\n",
    "from descartes import PolygonPatch\n",
    "from shapely.geometry import Point, LineString, Polygon\n",
    "from scipy.spatial import Voronoi\n",
    "import numpy as np\n",
    "import shapely\n",
    "import time\n",
    "\n",
    "ox.config(log_console=True, use_cache=True)\n",
    "ox.__version__"
   ]
  },
  {
   "cell_type": "code",
   "execution_count": 47,
   "metadata": {},
   "outputs": [],
   "source": [
    "from IPython.display import display"
   ]
  },
  {
   "cell_type": "code",
   "execution_count": 48,
   "metadata": {},
   "outputs": [],
   "source": [
    "#For graphing features in jupyter notebook:\n",
    "%matplotlib inline\n",
    "# ox.config(log_console=True, use_cache=True)\n",
    "# ox.__version__"
   ]
  },
  {
   "cell_type": "code",
   "execution_count": 49,
   "metadata": {},
   "outputs": [],
   "source": [
    "PROJECT_FOLDER = r\"/Users/calvindechicago/Documents/GitHub/JWA_2021\"\n",
    "COUNTY_POLYGON = os.path.join(PROJECT_FOLDER, \"Data\", \"osm_county_polygon.gpkg\" )\n",
    "STUDY_AREA = \"/Users/calvindechicago/Documents/GitHub/JWA_2021/code_outputs/route2_and_max_yellow/route2_max_yellow_buffer_poly.gpkg\"\n",
    "ROUTE_2_STOPS = '/Users/calvindechicago/Documents/GitHub/JWA_2021/data/Data_from_JWA/Route2_Stops.shp'\n",
    "MAX_YELLOW_STOPS = '/Users/calvindechicago/Documents/GitHub/JWA_2021/data/Data_from_JWA/MAX_Yellow_stops.shp'\n"
   ]
  },
  {
   "cell_type": "code",
   "execution_count": 50,
   "metadata": {},
   "outputs": [
    {
     "name": "stdout",
     "output_type": "stream",
     "text": [
      "2021-12-29 23:16:01 Retrieved response from cache file \"cache/8cf5ce47f3c71ddf2f130625dfbd35014712c804.json\"\n",
      "2021-12-29 23:16:01 Created GeoDataFrame with 1 rows from 1 queries\n",
      "2021-12-29 23:16:01 Projected GeoDataFrame to 4326\n"
     ]
    }
   ],
   "source": [
    "# Get the boundary polygon for the city or county. This polygon will be used to pull network and POIs\n",
    "county_poly = ox.geocoder.geocode_to_gdf('Multnomah County')\n",
    "county_proj = ox.project_gdf(county_poly,4326)"
   ]
  },
  {
   "cell_type": "code",
   "execution_count": 51,
   "metadata": {},
   "outputs": [
    {
     "data": {
      "text/plain": [
       "<AxesSubplot:>"
      ]
     },
     "execution_count": 51,
     "metadata": {},
     "output_type": "execute_result"
    },
    {
     "data": {
      "image/png": "[encoded data removed]",
      "text/plain": [
       "<Figure size 432x288 with 1 Axes>"
      ]
     },
     "metadata": {
      "needs_background": "light"
     },
     "output_type": "display_data"
    }
   ],
   "source": [
    "# Plot County geometry\n",
    "county_proj.plot()"
   ]
  },
  {
   "cell_type": "code",
   "execution_count": 7,
   "metadata": {},
   "outputs": [],
   "source": [
    "# Export County Geometry\n",
    "\n",
    "county_proj.to_file(COUNTY_POLYGON, layer='county_poly', driver=\"GPKG\")"
   ]
  },
  {
   "cell_type": "code",
   "execution_count": 52,
   "metadata": {},
   "outputs": [],
   "source": [
    "# Use this polygon to pull network in osmnx\n",
    "\n",
    "polygon = county_proj['geometry'].iloc[0]"
   ]
  },
  {
   "cell_type": "code",
   "execution_count": 53,
   "metadata": {},
   "outputs": [
    {
     "name": "stdout",
     "output_type": "stream",
     "text": [
      "2021-12-29 23:16:06 Projected GeoDataFrame to +proj=utm +zone=10 +ellps=WGS84 +datum=WGS84 +units=m +no_defs +type=crs\n",
      "2021-12-29 23:16:06 Projected GeoDataFrame to epsg:4326\n",
      "2021-12-29 23:16:06 Projected GeoDataFrame to +proj=utm +zone=10 +ellps=WGS84 +datum=WGS84 +units=m +no_defs +type=crs\n",
      "2021-12-29 23:16:06 Projected GeoDataFrame to epsg:4326\n",
      "2021-12-29 23:16:06 Requesting data within polygon from API in 1 request(s)\n",
      "2021-12-29 23:16:07 Retrieved response from cache file \"cache/1540e6335ee5fbc9efcce76059b6fd0d604fa035.json\"\n",
      "2021-12-29 23:16:07 Got all network data within polygon from API in 1 request(s)\n",
      "2021-12-29 23:16:07 Creating graph from downloaded OSM data...\n",
      "2021-12-29 23:16:21 Created graph with 385673 nodes and 841414 edges\n",
      "2021-12-29 23:16:28 Added length attributes to graph edges\n",
      "2021-12-29 23:16:29 Identifying all nodes that lie outside the polygon...\n",
      "2021-12-29 23:16:47 Created nodes GeoDataFrame from graph\n",
      "2021-12-29 23:17:01 Created r-tree spatial index for 385673 geometries\n",
      "2021-12-29 23:17:05 Identified 377052 geometries inside polygon\n",
      "2021-12-29 23:17:13 Removed 8621 nodes outside polygon\n",
      "2021-12-29 23:17:13 Truncated graph by polygon\n",
      "2021-12-29 23:17:15 Begin topologically simplifying the graph...\n",
      "2021-12-29 23:17:26 Identified 87120 edge endpoints\n",
      "2021-12-29 23:18:02 Simplified graph: 377052 to 87120 nodes, 823750 to 243886 edges\n",
      "2021-12-29 23:18:03 Identifying all nodes that lie outside the polygon...\n",
      "2021-12-29 23:18:06 Created nodes GeoDataFrame from graph\n",
      "2021-12-29 23:18:09 Created r-tree spatial index for 87120 geometries\n",
      "2021-12-29 23:18:10 Identified 81784 geometries inside polygon\n",
      "2021-12-29 23:18:13 Removed 5336 nodes outside polygon\n",
      "2021-12-29 23:18:14 Removed 24 isolated nodes\n",
      "2021-12-29 23:18:20 Got largest weakly connected component (80407 of 81760 total nodes)\n",
      "2021-12-29 23:18:20 Truncated graph by polygon\n",
      "2021-12-29 23:18:22 Counted undirected street segments incident on each node\n",
      "2021-12-29 23:18:22 graph_from_polygon returned graph with 80407 nodes and 228468 edges\n"
     ]
    }
   ],
   "source": [
    "# PULL NETWORK\n",
    "# NOTE: Setting network type is important, and analysis on the network failed when I did not set the network type. \n",
    "\n",
    "network_type='walk'\n",
    "\n",
    "G = ox.graph_from_polygon(polygon,  network_type=network_type)\n",
    "\n",
    "# print('Making the graph undirected')\n",
    "# G = G.to_undirected()\n"
   ]
  },
  {
   "cell_type": "code",
   "execution_count": 54,
   "metadata": {},
   "outputs": [
    {
     "name": "stdout",
     "output_type": "stream",
     "text": [
      "2021-12-29 23:25:34 Created nodes GeoDataFrame from graph\n",
      "2021-12-29 23:25:43 Projected GeoDataFrame to +proj=utm +zone=10 +ellps=WGS84 +datum=WGS84 +units=m +no_defs +type=crs\n",
      "2021-12-29 23:26:03 Created edges GeoDataFrame from graph\n",
      "2021-12-29 23:26:15 Projected GeoDataFrame to +proj=utm +zone=10 +ellps=WGS84 +datum=WGS84 +units=m +no_defs +type=crs\n",
      "2021-12-29 23:26:23 Created graph from node/edge GeoDataFrames\n",
      "2021-12-29 23:26:23 Projected graph with 80407 nodes and 228468 edges\n",
      "2021-12-29 23:26:24 Begin plotting the graph...\n",
      "2021-12-29 23:26:33 Created edges GeoDataFrame from graph\n",
      "2021-12-29 23:26:43 Created nodes GeoDataFrame from graph\n"
     ]
    },
    {
     "data": {
      "image/png": "[encoded data removed]",
      "text/plain": [
       "<Figure size 576x576 with 1 Axes>"
      ]
     },
     "metadata": {},
     "output_type": "display_data"
    },
    {
     "name": "stdout",
     "output_type": "stream",
     "text": [
      "2021-12-29 23:26:58 Finished plotting the graph\n"
     ]
    }
   ],
   "source": [
    "# Project the graph to UTM \n",
    "# osmnx automatically determines correct UTM zone and projects the graph. \n",
    "# Unit: Meters\n",
    "\n",
    "G = ox.project_graph(G)\n",
    "\n",
    "# Plot graph\n",
    "fig, ax = ox.plot_graph(G)\n"
   ]
  },
  {
   "cell_type": "code",
   "execution_count": 55,
   "metadata": {},
   "outputs": [],
   "source": [
    "# Set travel speed and desired isochrone radius \n",
    "\n",
    "travel_speed = 4.5  # walking speed in km/hour (about 2.8 mph)\n",
    "miles = .5\n"
   ]
  },
  {
   "cell_type": "code",
   "execution_count": 56,
   "metadata": {},
   "outputs": [],
   "source": [
    "# Add an edge attribute for time in minutes required to traverse each edge\n",
    "\n",
    "# For more info on networkx and graph.edges function used here, see:\n",
    "# https://networkx.org/documentation/stable/reference/classes/generated/networkx.Graph.edges.html\n",
    "\n",
    "meters_per_minute = travel_speed * 1000 / 60 #km per hour to m per minute\n",
    "for u, v, k, data in G.edges(data=True, keys=True):\n",
    "    data['time'] = data['length'] / meters_per_minute\n",
    "\n",
    "\n"
   ]
  },
  {
   "cell_type": "code",
   "execution_count": 57,
   "metadata": {},
   "outputs": [],
   "source": [
    "# - Simple conversion function that determines the travel time \n",
    "# needed to travel a given distance in (Miles) at a given speed (in KPH). \n",
    "# - It takes as inputs a distance (in Miles) and travel speed (KPH)\n",
    "# - The distance provided sets the network based travel radius to create isochrones. \n",
    "# - The travel speed given approximates the speed of a given mode, such as bicycling, walking, or transit. \n",
    "# - The trip time produced is appended to an empty list to work with\n",
    "# the isochrone creation script written by Geoff Boeing. \n",
    "\n",
    "\n",
    "def kph_dist_calc(travel_speed, miles):\n",
    "    dist_kilometers = miles * 1.60934\n",
    "    trip_time = []\n",
    "    trip_time.append((dist_kilometers / travel_speed)*60)\n",
    "    return(trip_time)\n",
    "    \n",
    "\n",
    "# Run function with inputs defined in earlier cell    \n",
    "trip_time = kph_dist_calc(travel_speed, miles)\n",
    "\n"
   ]
  },
  {
   "cell_type": "code",
   "execution_count": 58,
   "metadata": {},
   "outputs": [
    {
     "data": {
      "text/plain": [
       "10.728933333333334"
      ]
     },
     "execution_count": 58,
     "metadata": {},
     "output_type": "execute_result"
    }
   ],
   "source": [
    "# Future functions require the trip time value be numeric, not a list. \n",
    "\n",
    "trip_time = trip_time[0]\n",
    "trip_time"
   ]
  },
  {
   "cell_type": "code",
   "execution_count": 15,
   "metadata": {},
   "outputs": [
    {
     "name": "stdout",
     "output_type": "stream",
     "text": [
      "2021-12-29 23:00:24 Created edges GeoDataFrame from graph\n",
      "2021-12-29 23:00:27 Created nodes GeoDataFrame from graph\n"
     ]
    }
   ],
   "source": [
    "# Create Geodataframe from graph edges to view data\n",
    "\n",
    "gdf_edges = ox.graph_to_gdfs(G, nodes=False, edges=True)\n",
    "gdf_nodes = ox.graph_to_gdfs(G, nodes=True, edges=False)"
   ]
  },
  {
   "cell_type": "code",
   "execution_count": 16,
   "metadata": {},
   "outputs": [],
   "source": [
    "# Geopackage does not accept columns with lists as values. Iterate over invalid columns and convert to strings:\n",
    "invalid_cols = ['lanes', 'maxspeed', 'name', 'oneway', 'osmid', 'highway', 'est_width', 'service', 'access', \n",
    "               'bridge', 'ref','tunnel', 'junction', 'landuse', 'width', 'area']\n",
    "for col in invalid_cols:\n",
    "    gdf_edges[col] = gdf_edges[col].astype(str)"
   ]
  },
  {
   "cell_type": "code",
   "execution_count": 16,
   "metadata": {},
   "outputs": [],
   "source": [
    "#EXPORT EDGES to GEOPACKAGE\n",
    "\n",
    "gdf_edges_filepath =\"/Users/calvindechicago/Documents/GitHub/JWA_2021/code_outputs/edges.gpkg\"\n",
    "gdf_edges.to_file(gdf_edges_filepath, layer='edges', driver=\"GPKG\")"
   ]
  },
  {
   "cell_type": "code",
   "execution_count": 59,
   "metadata": {},
   "outputs": [],
   "source": [
    "# Read in Bus Stops to geodataframe\n",
    "\n",
    "route_2_stops = gpd.read_file(ROUTE_2_STOPS)\n",
    "max_yellow_stops = gpd.read_file(MAX_YELLOW_STOPS)\n",
    "\n",
    "#ROUTE_2_STOPS_TEST = '/Users/calvindechicago/Documents/GitHub/JWA_2021/data/route_2_stops_test/route_2_stops_test.gpkg'\n",
    "#ROUTE_2_STOPS_TEST = '/Users/calvindechicago/Documents/GitHub/JWA_2021/data/route_2_stops_test/route_2_stops_test_v2.gpkg'\n",
    "\n",
    "\n",
    "#route_2_stops = gpd.read_file(ROUTE_2_STOPS_TEST, layer='route_2_stops_test')\n",
    "#route_2_stops = gpd.read_file(ROUTE_2_STOPS_TEST, layer='route_2_stops_test_v2')\n",
    "\n"
   ]
  },
  {
   "cell_type": "code",
   "execution_count": 60,
   "metadata": {},
   "outputs": [],
   "source": [
    "# Merge two bus stop files together\n",
    "all_stops = route_2_stops.append(max_yellow_stops)"
   ]
  },
  {
   "cell_type": "code",
   "execution_count": 19,
   "metadata": {},
   "outputs": [
    {
     "data": {
      "text/plain": [
       "<AxesSubplot:>"
      ]
     },
     "execution_count": 19,
     "metadata": {},
     "output_type": "execute_result"
    },
    {
     "data": {
      "image/png": "[encoded data removed]",
      "text/plain": [
       "<Figure size 432x288 with 1 Axes>"
      ]
     },
     "metadata": {
      "needs_background": "light"
     },
     "output_type": "display_data"
    }
   ],
   "source": [
    "# Plot merged bus stops\n",
    "all_stops.plot()"
   ]
  },
  {
   "cell_type": "code",
   "execution_count": 61,
   "metadata": {},
   "outputs": [],
   "source": [
    "# Project route_2_stops to UTM CRS of graph\n",
    "all_stops = all_stops.to_crs(epsg=32610)\n",
    "\n"
   ]
  },
  {
   "cell_type": "code",
   "execution_count": null,
   "metadata": {},
   "outputs": [],
   "source": [
    "# Export the merged all stops \n",
    "\n",
    "all_stops_file =\"/Users/calvindechicago/Documents/GitHub/JWA_2021/code_outputs/all_stops.gpkg\"\n",
    "all_stops.to_file(all_stops_file, layer='all_stops', driver=\"GPKG\")"
   ]
  },
  {
   "cell_type": "markdown",
   "metadata": {},
   "source": [
    "# Create Dissolved Isochrone Polygons "
   ]
  },
  {
   "cell_type": "code",
   "execution_count": 22,
   "metadata": {},
   "outputs": [
    {
     "name": "stdout",
     "output_type": "stream",
     "text": [
      "2021-12-29 23:01:06 Created nodes GeoDataFrame from graph\n",
      "The nearest nodes are: \n",
      " \n"
     ]
    },
    {
     "data": {
      "text/plain": [
       "[1615102011,\n",
       " 1615102011,\n",
       " 1615102011,\n",
       " 1615102011,\n",
       " 1615102011,\n",
       " 1615102011,\n",
       " 1615102011,\n",
       " 1615102011,\n",
       " 1615102011,\n",
       " 1615102011,\n",
       " 1615102011,\n",
       " 1615102011,\n",
       " 1615102011,\n",
       " 1615102011,\n",
       " 1615102011,\n",
       " 1615102011,\n",
       " 1615102011,\n",
       " 1615102011,\n",
       " 1615102011,\n",
       " 1615102011,\n",
       " 1615102011,\n",
       " 1615102011,\n",
       " 1615102011,\n",
       " 1615102011,\n",
       " 1615102011,\n",
       " 1615102011,\n",
       " 1615102011,\n",
       " 1615102011,\n",
       " 1615102011,\n",
       " 1615102011,\n",
       " 1615102011,\n",
       " 1615102011,\n",
       " 1615102011,\n",
       " 1615102011,\n",
       " 1615102011,\n",
       " 1615102011,\n",
       " 1615102011,\n",
       " 1615102011,\n",
       " 1615102011,\n",
       " 1615102011,\n",
       " 1615102011,\n",
       " 1615102011,\n",
       " 1615102011,\n",
       " 1615102011,\n",
       " 1615102011,\n",
       " 1615102011,\n",
       " 1615102011,\n",
       " 1615102011,\n",
       " 1615102011,\n",
       " 1615102011,\n",
       " 1615102011,\n",
       " 1615102011,\n",
       " 1615102011,\n",
       " 1615102011,\n",
       " 1615102011,\n",
       " 1615102011,\n",
       " 1615102011,\n",
       " 1615102011,\n",
       " 1615102011,\n",
       " 1615102011,\n",
       " 1615102011,\n",
       " 1615102011,\n",
       " 1615102011,\n",
       " 1615102011,\n",
       " 1615102011,\n",
       " 1615102011,\n",
       " 1615102011,\n",
       " 1615102011,\n",
       " 1615102011,\n",
       " 1615102011,\n",
       " 1615102011,\n",
       " 1615102011,\n",
       " 1615102011,\n",
       " 1615102011,\n",
       " 1615102011,\n",
       " 1615102011,\n",
       " 1615102011,\n",
       " 1615102011,\n",
       " 1615102011,\n",
       " 1615102011,\n",
       " 1615102011,\n",
       " 1615102011,\n",
       " 1615102011,\n",
       " 1615102011,\n",
       " 1615102011,\n",
       " 1615102011,\n",
       " 1615102011,\n",
       " 1615102011,\n",
       " 1615102011,\n",
       " 1615102011,\n",
       " 1615102011,\n",
       " 1615102011,\n",
       " 1615102011,\n",
       " 1615102011,\n",
       " 1615102011,\n",
       " 1615102011,\n",
       " 1615102011,\n",
       " 1615102011,\n",
       " 1615102011,\n",
       " 1615102011,\n",
       " 1615102011,\n",
       " 1615102011,\n",
       " 1615102011,\n",
       " 1615102011,\n",
       " 1615102011,\n",
       " 1615102011,\n",
       " 1615102011,\n",
       " 1615102011,\n",
       " 1615102011,\n",
       " 1615102011,\n",
       " 1615102011,\n",
       " 1615102011,\n",
       " 1615102011,\n",
       " 1615102011,\n",
       " 1615102011,\n",
       " 1615102011,\n",
       " 1615102011,\n",
       " 1615102011,\n",
       " 1615102011,\n",
       " 1615102011,\n",
       " 1615102011,\n",
       " 1615102011,\n",
       " 1615102011,\n",
       " 1615102011,\n",
       " 1615102011,\n",
       " 1615102011,\n",
       " 1615102011,\n",
       " 1615102011,\n",
       " 1615102011,\n",
       " 1615102011,\n",
       " 1615102011,\n",
       " 1615102011,\n",
       " 1615102011,\n",
       " 1615102011,\n",
       " 1615102011,\n",
       " 1615102011,\n",
       " 1615102011,\n",
       " 1615102011,\n",
       " 1615102011,\n",
       " 1615102011,\n",
       " 1615102011,\n",
       " 1615102011,\n",
       " 1615102011,\n",
       " 1615102011,\n",
       " 1615102011,\n",
       " 1615102011,\n",
       " 1615102011,\n",
       " 1615102011,\n",
       " 1615102011,\n",
       " 1615102011,\n",
       " 1615102011,\n",
       " 1615102011,\n",
       " 1615102011,\n",
       " 1615102011,\n",
       " 1615102011,\n",
       " 1615102011,\n",
       " 1615102011,\n",
       " 1615102011,\n",
       " 1615102011,\n",
       " 1615102011,\n",
       " 1615102011,\n",
       " 1615102011,\n",
       " 1615102011,\n",
       " 1615102011,\n",
       " 1615102011,\n",
       " 1615102011,\n",
       " 1615102011,\n",
       " 1615102011,\n",
       " 1615102011,\n",
       " 1615102011,\n",
       " 1615102011,\n",
       " 1615102011,\n",
       " 1615102011,\n",
       " 1615102011,\n",
       " 1615102011,\n",
       " 1615102011,\n",
       " 1615102011,\n",
       " 1615102011]"
      ]
     },
     "execution_count": 22,
     "metadata": {},
     "output_type": "execute_result"
    }
   ],
   "source": [
    "# Get nearest osmnx network node to each bus stop for network analysis\n",
    "\n",
    "#nearest_nodes = []\n",
    "nearest_node = ox.distance.nearest_nodes(G, all_stops['geometry'].x, all_stops['geometry'].y )\n",
    "#nearest_nodes.append(nearest_node)\n",
    "\n",
    "print(\"The nearest nodes are: \\n \")\n",
    "nearest_node"
   ]
  },
  {
   "cell_type": "code",
   "execution_count": 21,
   "metadata": {},
   "outputs": [
    {
     "data": {
      "text/plain": [
       "1"
      ]
     },
     "execution_count": 21,
     "metadata": {},
     "output_type": "execute_result"
    }
   ],
   "source": [
    "# Make ISOCHRONES for each Bus Stop\n",
    "isochrone_polys = []\n",
    "for node in nearest_node:\n",
    "    # make the isochrone polygons\n",
    "    subgraph = nx.ego_graph(G, node, radius=trip_time, distance='time')\n",
    "    node_points = [Point((data['x'], data['y'])) for node, data in subgraph.nodes(data=True)]\n",
    "    bounding_poly = gpd.GeoSeries(node_points).unary_union.convex_hull\n",
    "    isochrone_polys.append(bounding_poly)\n",
    "\n",
    "len(node_points)"
   ]
  },
  {
   "cell_type": "code",
   "execution_count": 23,
   "metadata": {},
   "outputs": [
    {
     "data": {
      "text/plain": [
       "[<shapely.geometry.point.Point at 0x1463e3d30>,\n",
       " <shapely.geometry.point.Point at 0x1863155a0>,\n",
       " <shapely.geometry.point.Point at 0x109ece3b0>,\n",
       " <shapely.geometry.point.Point at 0x1463e0d60>,\n",
       " <shapely.geometry.point.Point at 0x1707962c0>,\n",
       " <shapely.geometry.point.Point at 0x109ece440>,\n",
       " <shapely.geometry.point.Point at 0x1707949d0>,\n",
       " <shapely.geometry.point.Point at 0x170796890>,\n",
       " <shapely.geometry.point.Point at 0x17079dcc0>,\n",
       " <shapely.geometry.point.Point at 0x17079f5b0>,\n",
       " <shapely.geometry.point.Point at 0x17079f280>,\n",
       " <shapely.geometry.point.Point at 0x17079f550>,\n",
       " <shapely.geometry.point.Point at 0x17079f520>,\n",
       " <shapely.geometry.point.Point at 0x17079f7c0>,\n",
       " <shapely.geometry.point.Point at 0x17b020e50>,\n",
       " <shapely.geometry.point.Point at 0x17079d5d0>,\n",
       " <shapely.geometry.point.Point at 0x163997b80>,\n",
       " <shapely.geometry.point.Point at 0x17079f190>,\n",
       " <shapely.geometry.point.Point at 0x163997310>,\n",
       " <shapely.geometry.point.Point at 0x17079dc00>,\n",
       " <shapely.geometry.point.Point at 0x17079f4c0>,\n",
       " <shapely.geometry.point.Point at 0x163997400>,\n",
       " <shapely.geometry.point.Point at 0x146437cd0>,\n",
       " <shapely.geometry.point.Point at 0x162a4d2a0>,\n",
       " <shapely.geometry.point.Point at 0x17079d4b0>,\n",
       " <shapely.geometry.point.Point at 0x1463d5cc0>,\n",
       " <shapely.geometry.point.Point at 0x146436d10>,\n",
       " <shapely.geometry.point.Point at 0x161113a60>,\n",
       " <shapely.geometry.point.Point at 0x1463d4310>,\n",
       " <shapely.geometry.point.Point at 0x161110cd0>,\n",
       " <shapely.geometry.point.Point at 0x146436e60>,\n",
       " <shapely.geometry.point.Point at 0x146437130>,\n",
       " <shapely.geometry.point.Point at 0x163997bb0>,\n",
       " <shapely.geometry.point.Point at 0x1464379d0>,\n",
       " <shapely.geometry.point.Point at 0x163997af0>,\n",
       " <shapely.geometry.point.Point at 0x163997b50>,\n",
       " <shapely.geometry.point.Point at 0x1639971c0>,\n",
       " <shapely.geometry.point.Point at 0x146437d60>,\n",
       " <shapely.geometry.point.Point at 0x163997e80>,\n",
       " <shapely.geometry.point.Point at 0x163997ca0>,\n",
       " <shapely.geometry.point.Point at 0x163997e50>,\n",
       " <shapely.geometry.point.Point at 0x163997ee0>,\n",
       " <shapely.geometry.point.Point at 0x1707299f0>,\n",
       " <shapely.geometry.point.Point at 0x170729bd0>,\n",
       " <shapely.geometry.point.Point at 0x170729b10>,\n",
       " <shapely.geometry.point.Point at 0x170729a50>,\n",
       " <shapely.geometry.point.Point at 0x170729a20>,\n",
       " <shapely.geometry.point.Point at 0x1707299c0>,\n",
       " <shapely.geometry.point.Point at 0x170729930>,\n",
       " <shapely.geometry.point.Point at 0x170729c00>,\n",
       " <shapely.geometry.point.Point at 0x170729c60>,\n",
       " <shapely.geometry.point.Point at 0x170729960>,\n",
       " <shapely.geometry.point.Point at 0x170729ae0>,\n",
       " <shapely.geometry.point.Point at 0x170729990>,\n",
       " <shapely.geometry.point.Point at 0x170729ab0>,\n",
       " <shapely.geometry.point.Point at 0x170729900>,\n",
       " <shapely.geometry.point.Point at 0x170729c30>,\n",
       " <shapely.geometry.point.Point at 0x170729a80>,\n",
       " <shapely.geometry.point.Point at 0x1707298d0>,\n",
       " <shapely.geometry.point.Point at 0x1707298a0>,\n",
       " <shapely.geometry.point.Point at 0x170729870>,\n",
       " <shapely.geometry.point.Point at 0x170729840>,\n",
       " <shapely.geometry.point.Point at 0x170729810>,\n",
       " <shapely.geometry.point.Point at 0x1707297e0>,\n",
       " <shapely.geometry.point.Point at 0x170729660>,\n",
       " <shapely.geometry.point.Point at 0x1707295a0>,\n",
       " <shapely.geometry.point.Point at 0x170729630>,\n",
       " <shapely.geometry.point.Point at 0x1707297b0>,\n",
       " <shapely.geometry.point.Point at 0x170729780>,\n",
       " <shapely.geometry.point.Point at 0x170729750>,\n",
       " <shapely.geometry.point.Point at 0x170729720>,\n",
       " <shapely.geometry.point.Point at 0x1707296f0>,\n",
       " <shapely.geometry.point.Point at 0x170729600>,\n",
       " <shapely.geometry.point.Point at 0x1707296c0>,\n",
       " <shapely.geometry.point.Point at 0x170729690>,\n",
       " <shapely.geometry.point.Point at 0x170728310>,\n",
       " <shapely.geometry.point.Point at 0x170728d90>,\n",
       " <shapely.geometry.point.Point at 0x170728d00>,\n",
       " <shapely.geometry.point.Point at 0x170728ca0>,\n",
       " <shapely.geometry.point.Point at 0x170728c70>,\n",
       " <shapely.geometry.point.Point at 0x170728be0>,\n",
       " <shapely.geometry.point.Point at 0x170728490>,\n",
       " <shapely.geometry.point.Point at 0x170729000>,\n",
       " <shapely.geometry.point.Point at 0x170728fd0>,\n",
       " <shapely.geometry.point.Point at 0x170729030>,\n",
       " <shapely.geometry.point.Point at 0x170728f40>,\n",
       " <shapely.geometry.point.Point at 0x1707290c0>,\n",
       " <shapely.geometry.point.Point at 0x1707293c0>,\n",
       " <shapely.geometry.point.Point at 0x170728af0>,\n",
       " <shapely.geometry.point.Point at 0x170728bb0>,\n",
       " <shapely.geometry.point.Point at 0x170729090>,\n",
       " <shapely.geometry.point.Point at 0x1707280d0>,\n",
       " <shapely.geometry.point.Point at 0x1707280a0>,\n",
       " <shapely.geometry.point.Point at 0x170728070>,\n",
       " <shapely.geometry.point.Point at 0x170728370>,\n",
       " <shapely.geometry.point.Point at 0x170728340>,\n",
       " <shapely.geometry.point.Point at 0x170728280>,\n",
       " <shapely.geometry.point.Point at 0x170728400>,\n",
       " <shapely.geometry.point.Point at 0x1707283d0>,\n",
       " <shapely.geometry.point.Point at 0x1707282e0>,\n",
       " <shapely.geometry.point.Point at 0x170729450>,\n",
       " <shapely.geometry.point.Point at 0x170729390>,\n",
       " <shapely.geometry.point.Point at 0x170729ba0>,\n",
       " <shapely.geometry.point.Point at 0x170729b70>,\n",
       " <shapely.geometry.point.Point at 0x170729b40>,\n",
       " <shapely.geometry.point.Point at 0x1707293f0>,\n",
       " <shapely.geometry.point.Point at 0x170729420>,\n",
       " <shapely.geometry.point.Point at 0x170729480>,\n",
       " <shapely.geometry.point.Point at 0x170729510>,\n",
       " <shapely.geometry.point.Point at 0x170729360>,\n",
       " <shapely.geometry.point.Point at 0x170729330>,\n",
       " <shapely.geometry.point.Point at 0x170729300>,\n",
       " <shapely.geometry.point.Point at 0x170729c90>,\n",
       " <shapely.geometry.point.Point at 0x170729cc0>,\n",
       " <shapely.geometry.point.Point at 0x170729cf0>,\n",
       " <shapely.geometry.point.Point at 0x170729d20>,\n",
       " <shapely.geometry.point.Point at 0x170729d50>,\n",
       " <shapely.geometry.point.Point at 0x170729d80>,\n",
       " <shapely.geometry.point.Point at 0x170729db0>,\n",
       " <shapely.geometry.point.Point at 0x170729de0>,\n",
       " <shapely.geometry.point.Point at 0x170729e10>,\n",
       " <shapely.geometry.point.Point at 0x170729e40>,\n",
       " <shapely.geometry.point.Point at 0x170729e70>,\n",
       " <shapely.geometry.point.Point at 0x170729ea0>,\n",
       " <shapely.geometry.point.Point at 0x170729ed0>,\n",
       " <shapely.geometry.point.Point at 0x170729f00>,\n",
       " <shapely.geometry.point.Point at 0x17072a230>,\n",
       " <shapely.geometry.point.Point at 0x17072a260>,\n",
       " <shapely.geometry.point.Point at 0x170729f30>,\n",
       " <shapely.geometry.point.Point at 0x170729f60>,\n",
       " <shapely.geometry.point.Point at 0x170729f90>,\n",
       " <shapely.geometry.point.Point at 0x170729fc0>,\n",
       " <shapely.geometry.point.Point at 0x170729ff0>,\n",
       " <shapely.geometry.point.Point at 0x17072a050>,\n",
       " <shapely.geometry.point.Point at 0x17072a200>,\n",
       " <shapely.geometry.point.Point at 0x17072a080>,\n",
       " <shapely.geometry.point.Point at 0x17072a110>,\n",
       " <shapely.geometry.point.Point at 0x17072a140>,\n",
       " <shapely.geometry.point.Point at 0x17072a0b0>,\n",
       " <shapely.geometry.point.Point at 0x17072a0e0>,\n",
       " <shapely.geometry.point.Point at 0x17072a020>,\n",
       " <shapely.geometry.point.Point at 0x17072a1a0>,\n",
       " <shapely.geometry.point.Point at 0x17072a1d0>,\n",
       " <shapely.geometry.point.Point at 0x17072a290>,\n",
       " <shapely.geometry.point.Point at 0x17072a2c0>,\n",
       " <shapely.geometry.point.Point at 0x17072a2f0>,\n",
       " <shapely.geometry.point.Point at 0x17072a320>,\n",
       " <shapely.geometry.point.Point at 0x17072a350>,\n",
       " <shapely.geometry.point.Point at 0x17072a380>,\n",
       " <shapely.geometry.point.Point at 0x17072a3b0>,\n",
       " <shapely.geometry.point.Point at 0x17072a3e0>,\n",
       " <shapely.geometry.point.Point at 0x17072a410>,\n",
       " <shapely.geometry.point.Point at 0x17072a440>,\n",
       " <shapely.geometry.point.Point at 0x17072a470>,\n",
       " <shapely.geometry.point.Point at 0x17072a4a0>,\n",
       " <shapely.geometry.point.Point at 0x17072a4d0>,\n",
       " <shapely.geometry.point.Point at 0x17072a500>,\n",
       " <shapely.geometry.point.Point at 0x17072a530>,\n",
       " <shapely.geometry.point.Point at 0x17072a560>,\n",
       " <shapely.geometry.point.Point at 0x17072a590>,\n",
       " <shapely.geometry.point.Point at 0x17072a5c0>,\n",
       " <shapely.geometry.point.Point at 0x17072a5f0>,\n",
       " <shapely.geometry.point.Point at 0x17072a620>,\n",
       " <shapely.geometry.point.Point at 0x17072a650>,\n",
       " <shapely.geometry.point.Point at 0x17072a680>,\n",
       " <shapely.geometry.point.Point at 0x17072a6b0>,\n",
       " <shapely.geometry.point.Point at 0x17072a6e0>,\n",
       " <shapely.geometry.point.Point at 0x17072a710>,\n",
       " <shapely.geometry.point.Point at 0x17072a740>,\n",
       " <shapely.geometry.point.Point at 0x17072a770>,\n",
       " <shapely.geometry.point.Point at 0x17072a7a0>,\n",
       " <shapely.geometry.point.Point at 0x17072a7d0>,\n",
       " <shapely.geometry.point.Point at 0x17072a800>,\n",
       " <shapely.geometry.point.Point at 0x17072a830>,\n",
       " <shapely.geometry.point.Point at 0x17072a860>,\n",
       " <shapely.geometry.point.Point at 0x17072a890>,\n",
       " <shapely.geometry.point.Point at 0x17072a8c0>,\n",
       " <shapely.geometry.point.Point at 0x17072a8f0>]"
      ]
     },
     "execution_count": 23,
     "metadata": {},
     "output_type": "execute_result"
    }
   ],
   "source": [
    "isochrone_polys"
   ]
  },
  {
   "cell_type": "code",
   "execution_count": 24,
   "metadata": {},
   "outputs": [],
   "source": [
    "#Create geodataframe of isochrones for export\n",
    "\n",
    "isochrone_gdf = gpd.GeoDataFrame(isochrone_polys, geometry=0)"
   ]
  },
  {
   "cell_type": "code",
   "execution_count": 25,
   "metadata": {},
   "outputs": [],
   "source": [
    "#SET CRS\n",
    "isochrone_gdf = isochrone_gdf.set_crs(epsg=32610)"
   ]
  },
  {
   "cell_type": "code",
   "execution_count": 26,
   "metadata": {},
   "outputs": [
    {
     "data": {
      "text/html": [
       "<div>\n",
       "<style scoped>\n",
       "    .dataframe tbody tr th:only-of-type {\n",
       "        vertical-align: middle;\n",
       "    }\n",
       "\n",
       "    .dataframe tbody tr th {\n",
       "        vertical-align: top;\n",
       "    }\n",
       "\n",
       "    .dataframe thead th {\n",
       "        text-align: right;\n",
       "    }\n",
       "</style>\n",
       "<table border=\"1\" class=\"dataframe\">\n",
       "  <thead>\n",
       "    <tr style=\"text-align: right;\">\n",
       "      <th></th>\n",
       "      <th>0</th>\n",
       "    </tr>\n",
       "  </thead>\n",
       "  <tbody>\n",
       "    <tr>\n",
       "      <th>0</th>\n",
       "      <td>POINT (584633.917 5050212.780)</td>\n",
       "    </tr>\n",
       "    <tr>\n",
       "      <th>1</th>\n",
       "      <td>POINT (584633.917 5050212.780)</td>\n",
       "    </tr>\n",
       "    <tr>\n",
       "      <th>2</th>\n",
       "      <td>POINT (584633.917 5050212.780)</td>\n",
       "    </tr>\n",
       "    <tr>\n",
       "      <th>3</th>\n",
       "      <td>POINT (584633.917 5050212.780)</td>\n",
       "    </tr>\n",
       "    <tr>\n",
       "      <th>4</th>\n",
       "      <td>POINT (584633.917 5050212.780)</td>\n",
       "    </tr>\n",
       "    <tr>\n",
       "      <th>...</th>\n",
       "      <td>...</td>\n",
       "    </tr>\n",
       "    <tr>\n",
       "      <th>173</th>\n",
       "      <td>POINT (584633.917 5050212.780)</td>\n",
       "    </tr>\n",
       "    <tr>\n",
       "      <th>174</th>\n",
       "      <td>POINT (584633.917 5050212.780)</td>\n",
       "    </tr>\n",
       "    <tr>\n",
       "      <th>175</th>\n",
       "      <td>POINT (584633.917 5050212.780)</td>\n",
       "    </tr>\n",
       "    <tr>\n",
       "      <th>176</th>\n",
       "      <td>POINT (584633.917 5050212.780)</td>\n",
       "    </tr>\n",
       "    <tr>\n",
       "      <th>177</th>\n",
       "      <td>POINT (584633.917 5050212.780)</td>\n",
       "    </tr>\n",
       "  </tbody>\n",
       "</table>\n",
       "<p>178 rows × 1 columns</p>\n",
       "</div>"
      ],
      "text/plain": [
       "                                  0\n",
       "0    POINT (584633.917 5050212.780)\n",
       "1    POINT (584633.917 5050212.780)\n",
       "2    POINT (584633.917 5050212.780)\n",
       "3    POINT (584633.917 5050212.780)\n",
       "4    POINT (584633.917 5050212.780)\n",
       "..                              ...\n",
       "173  POINT (584633.917 5050212.780)\n",
       "174  POINT (584633.917 5050212.780)\n",
       "175  POINT (584633.917 5050212.780)\n",
       "176  POINT (584633.917 5050212.780)\n",
       "177  POINT (584633.917 5050212.780)\n",
       "\n",
       "[178 rows x 1 columns]"
      ]
     },
     "execution_count": 26,
     "metadata": {},
     "output_type": "execute_result"
    }
   ],
   "source": [
    "isochrone_gdf"
   ]
  },
  {
   "cell_type": "code",
   "execution_count": 25,
   "metadata": {},
   "outputs": [],
   "source": [
    "# Export Isochrone layer\n",
    "\n",
    "isochrone_export_3=\"/Users/calvindechicago/Documents/GitHub/JWA_2021/code_outputs/isochrones/all_stops_iso.gpkg\"\n",
    "\n",
    "isochrone_gdf.to_file(isochrone_export_3, layer='all_stops_iso', driver=\"GPKG\")"
   ]
  },
  {
   "cell_type": "code",
   "execution_count": 27,
   "metadata": {},
   "outputs": [],
   "source": [
    "# Dissolve the Isochrones\n",
    "# Geopandas requires a dissolve field. Create new field and set every row to 1. \n",
    "\n",
    "isochrone_gdf['dissolvefield']= 1\n",
    "iso_dissolved = isochrone_gdf.dissolve(by='dissolvefield')\n"
   ]
  },
  {
   "cell_type": "code",
   "execution_count": 27,
   "metadata": {},
   "outputs": [],
   "source": [
    "#SET CRS\n",
    "iso_dissolved = iso_dissolved.set_crs(epsg=32610)\n",
    "\n",
    "# Export Isochrone layer\n",
    "\n",
    "isochrone_export_3=\"/Users/calvindechicago/Documents/GitHub/JWA_2021/code_outputs/isochrones/all_stops_iso.gpkg\"\n",
    "\n",
    "iso_dissolved.to_file(isochrone_export_3, layer='isos_dissolved', driver=\"GPKG\")\n"
   ]
  },
  {
   "cell_type": "markdown",
   "metadata": {},
   "source": [
    "# Create Voronoi Polygons"
   ]
  },
  {
   "cell_type": "code",
   "execution_count": 28,
   "metadata": {},
   "outputs": [],
   "source": [
    "# Create point data from all bus stop points\n",
    "# This is a necessary step to using the Shapely Voronoi tool\n",
    "\n",
    "all_stops_points = all_stops['geometry']"
   ]
  },
  {
   "cell_type": "code",
   "execution_count": 29,
   "metadata": {},
   "outputs": [
    {
     "data": {
      "text/plain": [
       "0     POINT (7708045.375 675325.007)\n",
       "1     POINT (7708215.485 675220.654)\n",
       "2     POINT (7644356.206 684242.038)\n",
       "3     POINT (7672219.234 676746.179)\n",
       "4     POINT (7643561.071 682339.110)\n",
       "                   ...              \n",
       "12    POINT (7644752.197 690315.341)\n",
       "13    POINT (7643168.397 696056.337)\n",
       "14    POINT (7644357.975 684700.484)\n",
       "15    POINT (7643227.008 681552.130)\n",
       "16    POINT (7643716.701 682751.436)\n",
       "Name: geometry, Length: 178, dtype: geometry"
      ]
     },
     "execution_count": 29,
     "metadata": {},
     "output_type": "execute_result"
    }
   ],
   "source": [
    "all_stops_points"
   ]
  },
  {
   "cell_type": "code",
   "execution_count": 30,
   "metadata": {},
   "outputs": [],
   "source": [
    "# Create array of coordinates for all stops\n",
    "\n",
    "x = all_stops.geometry.x.values\n",
    "y = all_stops.geometry.y.values\n",
    "coords = np.vstack((x, y)).T\n",
    "\n"
   ]
  },
  {
   "cell_type": "code",
   "execution_count": 31,
   "metadata": {},
   "outputs": [],
   "source": [
    "# The shapely Voronoi tool has an issue with creating polygons for some outlying points. \n",
    "# This can be resolved by creating the vertices for an enlarged bounding box. \n",
    "# This isn't a perfect solution, but should work well enough for this application. \n",
    "# Here I use +/- 5000 meters. \n",
    "# See Stackoverflow for notes:\n",
    "# # FROM: https://stackoverflow.com/questions/20515554/colorize-voronoi-diagram/20678647#20678647\n",
    "\n",
    "\n",
    "\n",
    "def enlarged_bbox(points):\n",
    "    x_coordinates, y_coordinates = zip(*points)\n",
    "\n",
    "    return [(min(x_coordinates)-5000,min(y_coordinates)-5000), (max(x_coordinates)+5000, max(y_coordinates)+5000), \n",
    "            (min(x_coordinates)-5000, max(y_coordinates)+5000 ), (max(x_coordinates)+5000, min(y_coordinates)-5000)]\n",
    "\n"
   ]
  },
  {
   "cell_type": "code",
   "execution_count": 32,
   "metadata": {},
   "outputs": [],
   "source": [
    "# Run enlarged_bbox function\n",
    "\n",
    "bbox = enlarged_bbox(coords)"
   ]
  },
  {
   "cell_type": "code",
   "execution_count": 33,
   "metadata": {},
   "outputs": [
    {
     "data": {
      "text/html": [
       "<div>\n",
       "<style scoped>\n",
       "    .dataframe tbody tr th:only-of-type {\n",
       "        vertical-align: middle;\n",
       "    }\n",
       "\n",
       "    .dataframe tbody tr th {\n",
       "        vertical-align: top;\n",
       "    }\n",
       "\n",
       "    .dataframe thead th {\n",
       "        text-align: right;\n",
       "    }\n",
       "</style>\n",
       "<table border=\"1\" class=\"dataframe\">\n",
       "  <thead>\n",
       "    <tr style=\"text-align: right;\">\n",
       "      <th></th>\n",
       "      <th>geometry</th>\n",
       "    </tr>\n",
       "  </thead>\n",
       "  <tbody>\n",
       "    <tr>\n",
       "      <th>0</th>\n",
       "      <td>POINT (7637375.279 670220.654)</td>\n",
       "    </tr>\n",
       "    <tr>\n",
       "      <th>1</th>\n",
       "      <td>POINT (7713215.485 719400.324)</td>\n",
       "    </tr>\n",
       "    <tr>\n",
       "      <th>2</th>\n",
       "      <td>POINT (7637375.279 719400.324)</td>\n",
       "    </tr>\n",
       "    <tr>\n",
       "      <th>3</th>\n",
       "      <td>POINT (7713215.485 670220.654)</td>\n",
       "    </tr>\n",
       "  </tbody>\n",
       "</table>\n",
       "</div>"
      ],
      "text/plain": [
       "                         geometry\n",
       "0  POINT (7637375.279 670220.654)\n",
       "1  POINT (7713215.485 719400.324)\n",
       "2  POINT (7637375.279 719400.324)\n",
       "3  POINT (7713215.485 670220.654)"
      ]
     },
     "execution_count": 33,
     "metadata": {},
     "output_type": "execute_result"
    }
   ],
   "source": [
    "# Create enlarged_bbox Geodataframe. This creates a geodataframe with two columns,\n",
    "# one with x coordinates and another with y coordinates. \n",
    "gdf_bbox = gpd.GeoDataFrame(bbox)\n",
    "\n",
    "# Create a single column geodataframe with a geometry column with the enlarged bbox coordinates\n",
    "bbox_gdf = gpd.GeoDataFrame(geometry=gpd.points_from_xy(gdf_bbox[0], gdf_bbox[1]))\n",
    "\n",
    "# View results\n",
    "bbox_gdf"
   ]
  },
  {
   "cell_type": "code",
   "execution_count": 34,
   "metadata": {},
   "outputs": [
    {
     "name": "stdout",
     "output_type": "stream",
     "text": [
      "(7637375.278994058, 670220.6537300672)\n",
      "(7713215.484819273, 719400.3237098189)\n",
      "(7637375.278994058, 719400.3237098189)\n",
      "(7713215.484819273, 670220.6537300672)\n",
      "bbox_coords: \n",
      "\n"
     ]
    },
    {
     "data": {
      "text/plain": [
       "[(7637375.278994058, 670220.6537300672),\n",
       " (7713215.484819273, 719400.3237098189),\n",
       " (7637375.278994058, 719400.3237098189),\n",
       " (7713215.484819273, 670220.6537300672)]"
      ]
     },
     "execution_count": 34,
     "metadata": {},
     "output_type": "execute_result"
    }
   ],
   "source": [
    "# Create array of points that can be added to transit stop points\n",
    "\n",
    "bbox_coords = []\n",
    "\n",
    "for point in bbox_gdf['geometry']:\n",
    "    print(point.coords[:][0])\n",
    "    bbox_coords.append(point.coords[:][0])\n",
    "\n",
    "print('bbox_coords: \\n')\n",
    "bbox_coords"
   ]
  },
  {
   "cell_type": "code",
   "execution_count": 35,
   "metadata": {},
   "outputs": [
    {
     "name": "stdout",
     "output_type": "stream",
     "text": [
      "Coords shape before adding enlarged bounding box vertices:\n",
      "\n",
      "(178, 2)\n",
      "Coords shape after adding enlarged bounding box vertices:\n",
      "\n",
      "(182, 2)\n"
     ]
    }
   ],
   "source": [
    "# Append enlarged bbox vertices to points\n",
    "\n",
    "print('Coords shape before adding enlarged bounding box vertices:\\n')\n",
    "print(coords.shape)\n",
    "\n",
    "coords = np.append(coords, bbox_coords, axis = 0)\n",
    "\n",
    "print('Coords shape after adding enlarged bounding box vertices:\\n')\n",
    "print(coords.shape)"
   ]
  },
  {
   "cell_type": "code",
   "execution_count": 36,
   "metadata": {},
   "outputs": [],
   "source": [
    "# Set CRS and Export\n",
    "bbox_gdf = bbox_gdf.set_crs(epsg=32610)\n",
    "enlarged_bbox_file =\"/Users/calvindechicago/Documents/GitHub/JWA_2021/code_outputs/enlarged_bbox.gpkg\"\n",
    "bbox_gdf.to_file(enlarged_bbox_file, layer='enlarged_bbox', driver=\"GPKG\")"
   ]
  },
  {
   "cell_type": "code",
   "execution_count": 37,
   "metadata": {},
   "outputs": [],
   "source": [
    "# Run Shapely voronoi tool on original points, with enlarged bounding box vertices added to point list\n",
    "vor = Voronoi(coords)"
   ]
  },
  {
   "cell_type": "code",
   "execution_count": 38,
   "metadata": {},
   "outputs": [
    {
     "data": {
      "text/plain": [
       "<scipy.spatial.qhull.Voronoi at 0x170797f10>"
      ]
     },
     "execution_count": 38,
     "metadata": {},
     "output_type": "execute_result"
    }
   ],
   "source": [
    "vor"
   ]
  },
  {
   "cell_type": "code",
   "execution_count": 39,
   "metadata": {},
   "outputs": [],
   "source": [
    "# Create polygons from Shapely Voronoi data \n",
    "\n",
    "lines = [shapely.geometry.LineString(vor.vertices[line]) for line in \n",
    "    vor.ridge_vertices if -1 not in line]\n",
    "polys = shapely.ops.polygonize(lines)\n",
    "voronois = gpd.GeoDataFrame(geometry=gpd.GeoSeries(polys))\n",
    "lines = [LineString(vor.vertices[line]) for line in vor.ridge_vertices if -1 not in line]\n",
    "regions = gpd.GeoDataFrame(data=shapely.ops.polygonize(lines), columns=['geometry'], geometry='geometry')\n",
    "\n"
   ]
  },
  {
   "cell_type": "code",
   "execution_count": 40,
   "metadata": {},
   "outputs": [],
   "source": [
    "# Project and Export newly created voronoi polygons\n",
    "regions = regions.set_crs(epsg=32610)"
   ]
  },
  {
   "cell_type": "code",
   "execution_count": 41,
   "metadata": {},
   "outputs": [
    {
     "data": {
      "text/html": [
       "<div>\n",
       "<style scoped>\n",
       "    .dataframe tbody tr th:only-of-type {\n",
       "        vertical-align: middle;\n",
       "    }\n",
       "\n",
       "    .dataframe tbody tr th {\n",
       "        vertical-align: top;\n",
       "    }\n",
       "\n",
       "    .dataframe thead th {\n",
       "        text-align: right;\n",
       "    }\n",
       "</style>\n",
       "<table border=\"1\" class=\"dataframe\">\n",
       "  <thead>\n",
       "    <tr style=\"text-align: right;\">\n",
       "      <th></th>\n",
       "      <th>geometry</th>\n",
       "    </tr>\n",
       "  </thead>\n",
       "  <tbody>\n",
       "    <tr>\n",
       "      <th>0</th>\n",
       "      <td>POLYGON ((7696944.455 700892.253, 7696052.253 ...</td>\n",
       "    </tr>\n",
       "    <tr>\n",
       "      <th>1</th>\n",
       "      <td>POLYGON ((7696052.253 677664.494, 7696944.455 ...</td>\n",
       "    </tr>\n",
       "    <tr>\n",
       "      <th>2</th>\n",
       "      <td>POLYGON ((7697015.159 676705.116, 7697812.395 ...</td>\n",
       "    </tr>\n",
       "    <tr>\n",
       "      <th>3</th>\n",
       "      <td>POLYGON ((7696185.487 675852.387, 7697015.159 ...</td>\n",
       "    </tr>\n",
       "    <tr>\n",
       "      <th>4</th>\n",
       "      <td>POLYGON ((7696052.253 677664.494, 7696185.487 ...</td>\n",
       "    </tr>\n",
       "    <tr>\n",
       "      <th>...</th>\n",
       "      <td>...</td>\n",
       "    </tr>\n",
       "    <tr>\n",
       "      <th>173</th>\n",
       "      <td>POLYGON ((7661327.929 641607.332, 7660756.203 ...</td>\n",
       "    </tr>\n",
       "    <tr>\n",
       "      <th>174</th>\n",
       "      <td>POLYGON ((7667303.100 676339.259, 7667123.001 ...</td>\n",
       "    </tr>\n",
       "    <tr>\n",
       "      <th>175</th>\n",
       "      <td>POLYGON ((7643554.788 684474.356, 7644346.836 ...</td>\n",
       "    </tr>\n",
       "    <tr>\n",
       "      <th>176</th>\n",
       "      <td>POLYGON ((7643790.644 683185.817, 7644605.361 ...</td>\n",
       "    </tr>\n",
       "    <tr>\n",
       "      <th>177</th>\n",
       "      <td>POLYGON ((7643297.841 681986.455, 7631676.199 ...</td>\n",
       "    </tr>\n",
       "  </tbody>\n",
       "</table>\n",
       "<p>178 rows × 1 columns</p>\n",
       "</div>"
      ],
      "text/plain": [
       "                                              geometry\n",
       "0    POLYGON ((7696944.455 700892.253, 7696052.253 ...\n",
       "1    POLYGON ((7696052.253 677664.494, 7696944.455 ...\n",
       "2    POLYGON ((7697015.159 676705.116, 7697812.395 ...\n",
       "3    POLYGON ((7696185.487 675852.387, 7697015.159 ...\n",
       "4    POLYGON ((7696052.253 677664.494, 7696185.487 ...\n",
       "..                                                 ...\n",
       "173  POLYGON ((7661327.929 641607.332, 7660756.203 ...\n",
       "174  POLYGON ((7667303.100 676339.259, 7667123.001 ...\n",
       "175  POLYGON ((7643554.788 684474.356, 7644346.836 ...\n",
       "176  POLYGON ((7643790.644 683185.817, 7644605.361 ...\n",
       "177  POLYGON ((7643297.841 681986.455, 7631676.199 ...\n",
       "\n",
       "[178 rows x 1 columns]"
      ]
     },
     "execution_count": 41,
     "metadata": {},
     "output_type": "execute_result"
    }
   ],
   "source": [
    "regions"
   ]
  },
  {
   "cell_type": "code",
   "execution_count": null,
   "metadata": {},
   "outputs": [],
   "source": [
    "# Project and Export newly created voronoi polygons\n",
    "regions = regions.set_crs(epsg=32610)\n",
    "\n",
    "# Save Voronoi Polygons to disk\n",
    "regions_file =\"/Users/calvindechicago/Documents/GitHub/JWA_2021/code_outputs/voronois.gpkg\"\n",
    "regions.to_file(regions_file, layer='voronois', driver=\"GPKG\")"
   ]
  },
  {
   "cell_type": "code",
   "execution_count": null,
   "metadata": {},
   "outputs": [],
   "source": [
    "# Clip Voronoi Polygons to Area within Isochrones\n",
    "# geopandas.clip(gdf, mask, keep_geom_type=False)\n",
    "\n",
    "clipped_voronoi = gpd.clip(regions, iso_dissolved)\n",
    "clipped_voronoi.plot()\n"
   ]
  },
  {
   "cell_type": "code",
   "execution_count": null,
   "metadata": {},
   "outputs": [],
   "source": [
    "# Project and Export newly created voronoi polygons\n",
    "clipped_voronoi = clipped_voronoi.set_crs(epsg=32610)\n",
    "\n",
    "# Save Voronoi Polygons to disk\n",
    "clipped_voronoi_file =\"/Users/calvindechicago/Documents/GitHub/JWA_2021/code_outputs/voronois.gpkg\"\n",
    "clipped_voronoi.to_file(clipped_voronoi_file, layer='clipped_voronois', driver=\"GPKG\")"
   ]
  },
  {
   "cell_type": "code",
   "execution_count": null,
   "metadata": {},
   "outputs": [],
   "source": [
    "# TO DO: \n",
    "#### 1 DONE join block group pop totals with block group geographies and export\n",
    "#### 2 DONE Make 1/2 mile isochrones for each transit stop and export\n",
    "#### 3 DONE Merge Isochrones\n",
    "#### 4 Create Voronoi Polygons For:\n",
    "- Max Yellow Line Stops\n",
    "- Line 2 Inbound\n",
    "- Line 2 Outbound\n",
    "#### 5 Clip Voronoi Polygons to Area within Isochrones\n",
    "#### 6 Where Voronoi Polygons overlap multiple blockgroups, find proportion that they overlap and calculate proportional total population.\n",
    "#### 7 join Voronoi Stats with each Stop\n",
    "#### 8 Create Leaflet Layer for Voronoi Polygons and symbolize graduated on ridership capture areas to show high/low areas. \n",
    "\n",
    "# TO DO:\n",
    "# Create Function that Creates Dissolved Isochrone layer for each route. \n",
    "# This will be used as input into the create_residential_coverage_areas function. "
   ]
  },
  {
   "cell_type": "markdown",
   "metadata": {},
   "source": [
    "# Calculate Population Estimates for Route Voronoi Polygons\n"
   ]
  },
  {
   "cell_type": "code",
   "execution_count": null,
   "metadata": {},
   "outputs": [],
   "source": [
    "# Set max_yellow_stops variable to other routes for testing purposes. \n",
    "max_yellow_stops = route_2_outbound\n",
    "\n",
    "max_yellow_stops.head(5)\n",
    "\n",
    "# # Project geodataframe\n",
    "# route_2_inbound_and_io = route_2_inbound_and_io.to_crs(epsg=32610)\n",
    "\n",
    "\n",
    "# # Create geodataframe for route 2 outbound stops and stops that are both inbound and outbound\n",
    "# route_2_outbound = route_2_stops[(route_2_stops['lines']=='2 Division (Outbound)')]\n",
    "# # Project geodataframe\n",
    "# route_2_outbound = route_2_outbound.to_crs(epsg=32610)\n"
   ]
  },
  {
   "cell_type": "code",
   "execution_count": 45,
   "metadata": {},
   "outputs": [
    {
     "ename": "NameError",
     "evalue": "name 'create_isochrones' is not defined",
     "output_type": "error",
     "traceback": [
      "\u001b[0;31m---------------------------------------------------------------------------\u001b[0m",
      "\u001b[0;31mNameError\u001b[0m                                 Traceback (most recent call last)",
      "\u001b[0;32m/var/folders/xj/mnh68ysn51s7wsvw5gl23h2r0000gq/T/ipykernel_15339/4249709456.py\u001b[0m in \u001b[0;36m<module>\u001b[0;34m\u001b[0m\n\u001b[1;32m      3\u001b[0m \u001b[0;31m# create_residential_coverage_areas(dissolved_isos, transit_stops, export_name='clipped_voronoi', export=True):\u001b[0m\u001b[0;34m\u001b[0m\u001b[0;34m\u001b[0m\u001b[0m\n\u001b[1;32m      4\u001b[0m \u001b[0;31m# create_isochrones(transit_stops, export_name, export=True):\u001b[0m\u001b[0;34m\u001b[0m\u001b[0;34m\u001b[0m\u001b[0m\n\u001b[0;32m----> 5\u001b[0;31m \u001b[0mmax_yellow_dissolved_iso\u001b[0m \u001b[0;34m=\u001b[0m \u001b[0mcreate_isochrones\u001b[0m\u001b[0;34m(\u001b[0m\u001b[0mmax_yellow_stops\u001b[0m\u001b[0;34m,\u001b[0m \u001b[0mexport\u001b[0m\u001b[0;34m=\u001b[0m\u001b[0;32mFalse\u001b[0m\u001b[0;34m)\u001b[0m\u001b[0;34m\u001b[0m\u001b[0;34m\u001b[0m\u001b[0m\n\u001b[0m\u001b[1;32m      6\u001b[0m \u001b[0mmax_yellow_voronoi\u001b[0m \u001b[0;34m=\u001b[0m \u001b[0mcreate_residential_coverage_areas\u001b[0m\u001b[0;34m(\u001b[0m\u001b[0mmax_yellow_dissolved_iso\u001b[0m\u001b[0;34m,\u001b[0m \u001b[0mmax_yellow_stops\u001b[0m\u001b[0;34m,\u001b[0m \u001b[0mexport\u001b[0m\u001b[0;34m=\u001b[0m\u001b[0;32mFalse\u001b[0m\u001b[0;34m)\u001b[0m\u001b[0;34m\u001b[0m\u001b[0;34m\u001b[0m\u001b[0m\n",
      "\u001b[0;31mNameError\u001b[0m: name 'create_isochrones' is not defined"
     ]
    }
   ],
   "source": [
    "# Create voronoi polygons for Max Yellow\n",
    "\n",
    "# create_residential_coverage_areas(dissolved_isos, transit_stops, export_name='clipped_voronoi', export=True):\n",
    "# create_isochrones(transit_stops, export_name, export=True):\n",
    "max_yellow_dissolved_iso = create_isochrones(max_yellow_stops, export=False)\n",
    "max_yellow_voronoi = create_residential_coverage_areas(max_yellow_dissolved_iso, max_yellow_stops, export=False)"
   ]
  },
  {
   "cell_type": "code",
   "execution_count": null,
   "metadata": {},
   "outputs": [],
   "source": [
    "max_yellow_voronoi.columns"
   ]
  },
  {
   "cell_type": "code",
   "execution_count": 42,
   "metadata": {},
   "outputs": [
    {
     "data": {
      "text/plain": [
       "<AxesSubplot:>"
      ]
     },
     "execution_count": 42,
     "metadata": {},
     "output_type": "execute_result"
    },
    {
     "data": {
      "image/png": "[encoded data removed]",
      "text/plain": [
       "<Figure size 432x288 with 1 Axes>"
      ]
     },
     "metadata": {
      "needs_background": "light"
     },
     "output_type": "display_data"
    }
   ],
   "source": [
    "block_groups_filepath = \"/Users/calvindechicago/Documents/GitHub/JWA_2021/code_outputs/bg_pop_051.gpkg\"\n",
    "block_groups = gpd.read_file(block_groups_filepath)\n",
    "\n",
    "# Project geodataframe\n",
    "block_groups = block_groups.to_crs(epsg=32610)\n",
    "\n",
    "# Add area column\n",
    "block_groups['bg_area'] = block_groups['geometry'].area \n",
    "\n",
    "# Plot \n",
    "block_groups.plot()"
   ]
  },
  {
   "cell_type": "code",
   "execution_count": 43,
   "metadata": {},
   "outputs": [
    {
     "ename": "NameError",
     "evalue": "name 'max_yellow_voronoi' is not defined",
     "output_type": "error",
     "traceback": [
      "\u001b[0;31m---------------------------------------------------------------------------\u001b[0m",
      "\u001b[0;31mNameError\u001b[0m                                 Traceback (most recent call last)",
      "\u001b[0;32m/var/folders/xj/mnh68ysn51s7wsvw5gl23h2r0000gq/T/ipykernel_15339/1965937693.py\u001b[0m in \u001b[0;36m<module>\u001b[0;34m\u001b[0m\n\u001b[1;32m      3\u001b[0m \u001b[0;34m\u001b[0m\u001b[0m\n\u001b[1;32m      4\u001b[0m \u001b[0;34m\u001b[0m\u001b[0m\n\u001b[0;32m----> 5\u001b[0;31m \u001b[0mmax_yel_with_stops\u001b[0m \u001b[0;34m=\u001b[0m \u001b[0mgpd\u001b[0m\u001b[0;34m.\u001b[0m\u001b[0msjoin\u001b[0m\u001b[0;34m(\u001b[0m\u001b[0mmax_yellow_voronoi\u001b[0m\u001b[0;34m,\u001b[0m \u001b[0mmax_yellow_stops\u001b[0m\u001b[0;34m)\u001b[0m\u001b[0;34m\u001b[0m\u001b[0;34m\u001b[0m\u001b[0m\n\u001b[0m\u001b[1;32m      6\u001b[0m \u001b[0mprint\u001b[0m\u001b[0;34m(\u001b[0m\u001b[0mmax_yel_with_stops\u001b[0m\u001b[0;34m.\u001b[0m\u001b[0mhead\u001b[0m\u001b[0;34m(\u001b[0m\u001b[0;36m3\u001b[0m\u001b[0;34m)\u001b[0m\u001b[0;34m)\u001b[0m\u001b[0;34m\u001b[0m\u001b[0;34m\u001b[0m\u001b[0m\n\u001b[1;32m      7\u001b[0m \u001b[0mprint\u001b[0m\u001b[0;34m(\u001b[0m\u001b[0mmax_yel_with_stops\u001b[0m\u001b[0;34m.\u001b[0m\u001b[0mplot\u001b[0m\u001b[0;34m(\u001b[0m\u001b[0;34m)\u001b[0m\u001b[0;34m)\u001b[0m\u001b[0;34m\u001b[0m\u001b[0;34m\u001b[0m\u001b[0m\n",
      "\u001b[0;31mNameError\u001b[0m: name 'max_yellow_voronoi' is not defined"
     ]
    }
   ],
   "source": [
    "# Create intersection between the Voronoi Polygons and their respective stops\n",
    "# geopandas.sjoin(left_df, right_df, how='inner', op='intersects', lsuffix='left', rsuffix='right')\n",
    "\n",
    "\n",
    "max_yel_with_stops = gpd.sjoin(max_yellow_voronoi, max_yellow_stops)\n",
    "print(max_yel_with_stops.head(3))\n",
    "print(max_yel_with_stops.plot())\n"
   ]
  },
  {
   "cell_type": "code",
   "execution_count": 44,
   "metadata": {},
   "outputs": [
    {
     "ename": "NameError",
     "evalue": "name 'max_yel_with_stops' is not defined",
     "output_type": "error",
     "traceback": [
      "\u001b[0;31m---------------------------------------------------------------------------\u001b[0m",
      "\u001b[0;31mNameError\u001b[0m                                 Traceback (most recent call last)",
      "\u001b[0;32m/var/folders/xj/mnh68ysn51s7wsvw5gl23h2r0000gq/T/ipykernel_15339/1983188983.py\u001b[0m in \u001b[0;36m<module>\u001b[0;34m\u001b[0m\n\u001b[1;32m      1\u001b[0m \u001b[0;31m# Create Intersection between Voronoi Polygons and Block Groups\u001b[0m\u001b[0;34m\u001b[0m\u001b[0;34m\u001b[0m\u001b[0m\n\u001b[1;32m      2\u001b[0m \u001b[0;34m\u001b[0m\u001b[0m\n\u001b[0;32m----> 3\u001b[0;31m \u001b[0mmax_yellow_bg\u001b[0m \u001b[0;34m=\u001b[0m \u001b[0mmax_yel_with_stops\u001b[0m\u001b[0;34m.\u001b[0m\u001b[0moverlay\u001b[0m\u001b[0;34m(\u001b[0m\u001b[0mblock_groups\u001b[0m\u001b[0;34m,\u001b[0m \u001b[0mhow\u001b[0m\u001b[0;34m=\u001b[0m\u001b[0;34m'intersection'\u001b[0m\u001b[0;34m)\u001b[0m\u001b[0;34m\u001b[0m\u001b[0;34m\u001b[0m\u001b[0m\n\u001b[0m\u001b[1;32m      4\u001b[0m \u001b[0;34m\u001b[0m\u001b[0m\n",
      "\u001b[0;31mNameError\u001b[0m: name 'max_yel_with_stops' is not defined"
     ]
    }
   ],
   "source": [
    "# Create Intersection between Voronoi Polygons and Block Groups\n",
    "\n",
    "max_yellow_bg = max_yel_with_stops.overlay(block_groups, how='intersection')\n",
    "\n"
   ]
  },
  {
   "cell_type": "code",
   "execution_count": null,
   "metadata": {},
   "outputs": [],
   "source": [
    "print(\"max yellow voronois count:\")\n",
    "print(max_yellow_voronoi.shape[0])\n",
    "print(\"max yellow voronois intersection with block groups count:\")\n",
    "print(max_yellow_bg.shape[0])"
   ]
  },
  {
   "cell_type": "code",
   "execution_count": null,
   "metadata": {},
   "outputs": [],
   "source": [
    "# Calculate area of block group polygons clipped to boundaries of the Max Yellow Voronoi Polygons\n",
    "max_yellow_bg['max_yel_area'] = max_yellow_bg['geometry'].area "
   ]
  },
  {
   "cell_type": "code",
   "execution_count": null,
   "metadata": {},
   "outputs": [],
   "source": [
    "print(max_yellow_bg.columns)\n",
    "max_yellow_bg.head(5)"
   ]
  },
  {
   "cell_type": "code",
   "execution_count": null,
   "metadata": {},
   "outputs": [],
   "source": [
    "# Calculate the proportion  Divide max yellow voronoi/Block Group intersections areas by the unaltered block groups' areas. \n",
    "max_yellow_bg['area_proportion'] = (max_yellow_bg['max_yel_area'] / max_yellow_bg['bg_area'])"
   ]
  },
  {
   "cell_type": "code",
   "execution_count": null,
   "metadata": {},
   "outputs": [],
   "source": [
    "# Convert Pop_Total column to numeric\n",
    "max_yellow_bg['total_pop']= max_yellow_bg['total_pop'].astype('float64')\n",
    "\n",
    "#df_test['column_name'] = df_test['column_name'].astype('int64')"
   ]
  },
  {
   "cell_type": "code",
   "execution_count": null,
   "metadata": {},
   "outputs": [],
   "source": [
    "#max_yellow_bg[max_yellow_bg['max_yel_area'].isnull()]\n",
    "#max_yellow_bg['max_yel_area'].unique()\n",
    "max_yellow_bg['bg_area'].dtypes\n",
    "\n"
   ]
  },
  {
   "cell_type": "code",
   "execution_count": null,
   "metadata": {},
   "outputs": [],
   "source": [
    "#max_yellow_bg[max_yellow_bg['bg_area'].isnull()]\n",
    "#max_yellow_bg['bg_area'].unique()\n",
    "max_yellow_bg['bg_area'].dtypes"
   ]
  },
  {
   "cell_type": "code",
   "execution_count": null,
   "metadata": {},
   "outputs": [],
   "source": [
    "#max_yellow_bg[max_yellow_bg['total_pop'].isnull()]\n",
    "#max_yellow_bg['total_pop'].unique()\n",
    "max_yellow_bg['total_pop'].dtypes"
   ]
  },
  {
   "cell_type": "code",
   "execution_count": null,
   "metadata": {},
   "outputs": [],
   "source": [
    "# Calculate the proportion of block group population estimates falling within each isochrone. \n",
    "max_yellow_bg['proportional_pop'] = (max_yellow_bg['area_proportion'] * max_yellow_bg['total_pop'])"
   ]
  },
  {
   "cell_type": "code",
   "execution_count": null,
   "metadata": {},
   "outputs": [],
   "source": [
    "# Aggregate all proportional populations for each transit stop's respective isochrone. \n",
    "Transit_stop_iso_pop = max_yellow_bg.dissolve(by='index_right', aggfunc='sum')\n",
    "\n",
    "\n",
    "\n"
   ]
  },
  {
   "cell_type": "code",
   "execution_count": null,
   "metadata": {},
   "outputs": [],
   "source": [
    "# Export to disk\n",
    "max_yellow_bg_file =r\"/Users/calvindechicago/Documents/GitHub/JWA_2021/code_outputs/Max_Yellow_with_BG.gpkg\"\n",
    "max_yellow_bg.to_file(max_yellow_bg_file, layer='Max_Yellow_with_BG', driver=\"GPKG\")"
   ]
  },
  {
   "cell_type": "code",
   "execution_count": null,
   "metadata": {},
   "outputs": [],
   "source": [
    "# Export to disk\n",
    "Transit_stop_iso_pop_file =r\"/Users/calvindechicago/Documents/GitHub/JWA_2021/code_outputs/Transit_Stop_Isos_with_Pop.gpkg\"\n",
    "Transit_stop_iso_pop.to_file(Transit_stop_iso_pop_file, layer='Transit_Stop_Isos_with_Pop', driver=\"GPKG\")"
   ]
  },
  {
   "cell_type": "markdown",
   "metadata": {},
   "source": [
    "# Methodized Functions"
   ]
  },
  {
   "cell_type": "code",
   "execution_count": 62,
   "metadata": {},
   "outputs": [],
   "source": [
    "# Function that creates dissolved isochrone layer for each \n",
    "\n",
    "def create_isochrones(transit_stops, export_name='dissolved_iso', export=True):\n",
    "    \n",
    "    \"\"\"\n",
    "    This function Assumes that a graph 'G' has been created and processed to include a 'time' value used to \n",
    "    calculate the amount of time to traverse an edge. The function assumes that a 'trip_time' variable has also\n",
    "    been set. \n",
    "    \n",
    "    The function first finds the nearest network node to each transit stop. It then creates an isochrone using \n",
    "    the nearest nodes. \n",
    "    \n",
    "    The isochrones assume a constant walking speeds along the walkable street network and do not account \n",
    "    for traffic signals, or other impedances. \n",
    "    \n",
    " \n",
    "        params: transit_stops: geodataframe of point data representing transit stops.\n",
    "        params: export_name: string representing name that will be appended to end of file output name\n",
    "        export: True if you want to export dissolved isochrone polygon or multipolygon to disk. False if you do\n",
    "                not want to export. \n",
    "        \n",
    "        returns: This function returns a geodataframe for the dissolved isochrones. \n",
    "    \n",
    "    \n",
    "    \"\"\"\n",
    "    \n",
    "    transit_stops = transit_stops.to_crs(epsg=32610)\n",
    "    \n",
    "    # Get nearest osmnx network node to each bus stop for network analysis\n",
    "    nearest_node = ox.distance.nearest_nodes(G, transit_stops['geometry'].x, transit_stops['geometry'].y )\n",
    "    #nearest_nodes.append(nearest_node)\n",
    "\n",
    "    print(\"The nearest nodes are: \\n \")\n",
    "    nearest_node\n",
    "    \n",
    "    # Make ISOCHRONES for each Transit Stop\n",
    "    isochrone_polys = []\n",
    "    for node in nearest_node:\n",
    "        # make the isochrone polygons\n",
    "        subgraph = nx.ego_graph(G, node, radius=trip_time, distance='time')\n",
    "        node_points = [Point((data['x'], data['y'])) for node, data in subgraph.nodes(data=True)]\n",
    "        bounding_poly = gpd.GeoSeries(node_points).unary_union.convex_hull\n",
    "        isochrone_polys.append(bounding_poly)\n",
    "\n",
    "    len(node_points)\n",
    "    \n",
    "    #Create geodataframe of isochrones for export\n",
    "    isochrone_gdf = gpd.GeoDataFrame(isochrone_polys, geometry=0)\n",
    "    \n",
    "    #SET CRS\n",
    "    isochrone_gdf = isochrone_gdf.set_crs(epsg=32610)\n",
    "    \n",
    "    # Dissolve the Isochrones\n",
    "    # Geopandas requires a dissolve field. Create new field and set every row to 1. \n",
    "    isochrone_gdf['dissolvefield']= 1\n",
    "    iso_dissolved = isochrone_gdf.dissolve(by='dissolvefield')\n",
    "    \n",
    "    #SET CRS\n",
    "    iso_dissolved = iso_dissolved.set_crs(epsg=32610)\n",
    "\n",
    "    if export:\n",
    "        # Export Isochrone layer\n",
    "        # TODO - find solution to dynamically name output layer name. \n",
    "        print(f\"\\n\\n***************** EXPORTING DISSOLVED ISOCHRONES FOR {export_name}\")\n",
    "        isochrone_export_3=\"/Users/calvindechicago/Documents/GitHub/JWA_2021/code_outputs/dissolved_isos.gpkg\"\n",
    "        iso_dissolved.to_file(isochrone_export_3, layer=f'isos_dissolved_{export_name}', driver=\"GPKG\")\n",
    "    else:\n",
    "        pass\n",
    "    \n",
    "    return iso_dissolved;\n"
   ]
  },
  {
   "cell_type": "code",
   "execution_count": 63,
   "metadata": {},
   "outputs": [],
   "source": [
    "# Function for creating residential coverage polygons from points\n",
    "# **If a route is bidirectional with separate stations for each direction, \n",
    "# each direction's collective set of stops should have their own set of corresponding\n",
    "# voronoi polygons, unaffected by other routes, lines, and directions.  \n",
    "\n",
    "\n",
    "def create_residential_coverage_areas(dissolved_isos, transit_stops, export_name='clipped_voronoi', export=True):\n",
    "    \"\"\"\n",
    "    This function creates residential coverage areas by:\n",
    "    -  1/2 mile dissolved isochrones, aka travel sheds, around all transit stops for a single route. \n",
    "    -  Voronoi polygons are then created for each bus stop on the route\n",
    "    -  These voronoi polygons are then clipped to the area within the 1/2 mile isochrones\n",
    "    -  Each of these voronoi polygons represents the residential coverage area for a given stop on a route.\n",
    "    -  The isochrone polygons contain all of the points within the walkable street network that can be reached\n",
    "    walking (at about about 2.8 mph) The analysis assumes a constant walking speed and does not account for stop \n",
    "    lights or other impedences. \n",
    "    - Many of the bus stops will contain 1/2 mile isochrones that overlap with other same route bus stops' \n",
    "    1/2 mile isochrone. \n",
    "    - To ensure that the overlapping 1/2 mile isochrone areas are not double counted, The entire area covered\n",
    "    by all of the isochrones for the route is segmented into separate polygons for each transit stop, called voronoi \n",
    "    polygons. Each transit stop's vorronoi polygon represents every point within the isochrone area that is closer to \n",
    "    the given transit stop than any other transit stop on the route.\n",
    "    \n",
    "        params: dissolved_isos: geodataframe representing dissolved isochrones. \n",
    "        params: transit_stops: geodataframe of point data representing transit stops.\n",
    "        params: export_name: string representing name that will be appended to end of file output name\n",
    "        \n",
    "        returns: This returns a geodataframe for the clipped voronoi polygons. \n",
    "    \n",
    "    \"\"\"\n",
    "    \n",
    "    \n",
    "    #Get geometry column of transit stops geodataframe\n",
    "    transit_stops = transit_stops['geometry']\n",
    "    \n",
    "    transit_stops = transit_stops.to_crs(epsg=32610)\n",
    "\n",
    "    \n",
    "    # Create array of coordinates for all transit stops\n",
    "    x = transit_stops.geometry.x.values\n",
    "    y = transit_stops.geometry.y.values\n",
    "    coords = np.vstack((x, y)).T\n",
    "    \n",
    "    print('\\n Number of coordinate pairs: \\n ')\n",
    "    print(len(coords))\n",
    "    print(\"\\n\")\n",
    "    \n",
    "    # The shapely Voronoi tool has an issue with creating polygons for some outlying points. \n",
    "    # This can be resolved by creating the vertices for an enlarged bounding box. \n",
    "    # This isn't a perfect solution, but should work well enough for this application. \n",
    "    # Here I use +/- 5000 meters. \n",
    "    # See Stackoverflow for notes:\n",
    "    # # FROM: https://stackoverflow.com/questions/20515554/colorize-voronoi-diagram/20678647#20678647\n",
    "    def enlarged_bounding_box(points):\n",
    "        x_coordinates, y_coordinates = zip(*points)\n",
    "\n",
    "        return [(min(x_coordinates)-5000,min(y_coordinates)-5000), (max(x_coordinates)+5000, max(y_coordinates)+5000), \n",
    "                (min(x_coordinates)-5000, max(y_coordinates)+5000 ), (max(x_coordinates)+5000, min(y_coordinates)-5000)]\n",
    "\n",
    "    # Run enlarged_bbox function. This function creates an enlarged bounding box around the transit route points\n",
    "    bbox = enlarged_bounding_box(coords)\n",
    "    \n",
    "    # Create enlarged_bbox Geodataframe. This creates a geodataframe with two columns,\n",
    "    # one with x coordinates and another with y coordinates. \n",
    "    gdf_bbox = gpd.GeoDataFrame(bbox)\n",
    "\n",
    "    # Create a single column geodataframe with a geometry column with the enlarged bbox coordinates\n",
    "    bbox_gdf = gpd.GeoDataFrame(geometry=gpd.points_from_xy(gdf_bbox[0], gdf_bbox[1]))\n",
    "   \n",
    "    # Create array of points that can be added to bus stop points\n",
    "    bbox_coords = []\n",
    "    for point in bbox_gdf['geometry']:\n",
    "        print(point.coords[:][0])\n",
    "        bbox_coords.append(point.coords[:][0])\n",
    "\n",
    "\n",
    "    \n",
    "    # Append enlarged bbox vertices to points\n",
    "    print('Coords shape before adding enlarged bounding box vertices:\\n')\n",
    "    print(coords.shape)\n",
    "    coords = np.append(coords, bbox_coords, axis = 0)\n",
    "    print('Coords shape after adding enlarged bounding box vertices:\\n')\n",
    "    print(coords.shape)\n",
    "    \n",
    "    print(\"Creating Polygons from shapely Voronoi object...\")\n",
    "    # Run Shapely voronoi tool on original points, with enlarged bounding box vertices added to point list\n",
    "    vor = Voronoi(coords)\n",
    "    \n",
    "    \n",
    "    # Create polygons from Shapely Voronoi data \n",
    "    lines = [shapely.geometry.LineString(vor.vertices[line]) for line in vor.ridge_vertices if -1 not in line]\n",
    "    polys = shapely.ops.polygonize(lines)\n",
    "    voronois = gpd.GeoDataFrame(geometry=gpd.GeoSeries(polys))\n",
    "    lines = [LineString(vor.vertices[line]) for line in vor.ridge_vertices if -1 not in line]\n",
    "    regions = gpd.GeoDataFrame(data=shapely.ops.polygonize(lines), columns=['geometry'], geometry='geometry')\n",
    "\n",
    "    # Project\n",
    "    regions = regions.set_crs(epsg=32610)\n",
    "    \n",
    "    # Clip Voronoi Polygons to Area within Isochrones\n",
    "    # geopandas.clip(gdf, mask, keep_geom_type=False)\n",
    "    clipped_voronoi = gpd.clip(regions, dissolved_isos)\n",
    "    \n",
    "    # Project and Export newly created voronoi polygons\n",
    "    clipped_voronoi = clipped_voronoi.set_crs(epsg=32610)\n",
    "    \n",
    "    \n",
    "\n",
    "\n",
    "    # Save Voronoi Polygons to disk\n",
    "    if export is True:\n",
    "         # TODO - find solution to dynamically name output layer name. \n",
    "        print(f\"\\n\\n***************** EXPORTING VORONOI POLYGONS CLIPPED TO ISOCHRONES FOR {export_name}\")\n",
    "\n",
    "        clipped_voronoi_file =r\"/Users/calvindechicago/Documents/GitHub/JWA_2021/code_outputs/clipped_voronois.gpkg\"\n",
    "        clipped_voronoi.to_file(clipped_voronoi_file, layer=f'clipped_voronois_{export_name}', driver=\"GPKG\")\n",
    "    else:\n",
    "        pass;\n",
    "\n",
    "    print(\"\\n\\n*************************\\n*************************\")\n",
    "    print(f\"RETURNING CLIPPED VORONOI POLYGONS for {export_name}. \")\n",
    "    print(\"There are \", clipped_voronoi.shape[0], f\" polygons for {export_name}\")\n",
    "    print(\"\\n\")\n",
    "\n",
    "\n",
    "    return clipped_voronoi;\n",
    "\n",
    "\n",
    "\n",
    "    \n"
   ]
  },
  {
   "cell_type": "code",
   "execution_count": 64,
   "metadata": {},
   "outputs": [],
   "source": [
    "\"\"\"\n",
    "This function aggregates population estimates for within each transit stop's \n",
    "designated isochrone/Voronoi polygon. \n",
    "\n",
    "\n",
    "    params: block_groups -  geodataframe. Should contain a 'total_pop' layer that is numeric and does not contain null values\n",
    "    params: route_voronoi - geodataframe. Contains a routes voronoi polygons clipped to the routes dissolved isochrone layer. \n",
    "    params: route_stops - point data for a route's transit stops\n",
    "    params: block group filepath. Adding as filepath for fresh load, so multiple iterations do not cause issues\n",
    "    \n",
    "    return: transit_stop_iso_pop - These are the final iso/voronoi polygons with population estimates. \n",
    "            final_stops_w_pop - These are the original stop points with aggregated pop data\n",
    "\"\"\"\n",
    "\n",
    "def aggregate_pop(block_groups_filepath, clipped_voronoi, transit_stops, export_name='aggregated_pop',\n",
    "                  export_final_isos=True, export_final_stops=True):\n",
    "\n",
    "    print(\"\\n\\n======================RUNNING AGGREGATE_POP FUNCTION===========================================\\n\")\n",
    "    # Plot clipped voronoi for test\n",
    "    print(f\"Below is a plot of the transit stop points overlaying the voronoi polygons for {export_name} route:\")\n",
    "    base = clipped_voronoi.plot(color='gray')\n",
    "    transit_stops.plot(ax=base, color='blue')\n",
    "    plt.show()\n",
    "    #Delay code to allow synchronous plotting\n",
    "    time.sleep(10)\n",
    "    print(clipped_voronoi.shape[0])\n",
    "    time.sleep(3)\n",
    "    \n",
    "    # Adding block_groups read from filepath\n",
    "    block_groups = gpd.read_file(block_groups_filepath)\n",
    "\n",
    "    # Project geodataframe\n",
    "    block_groups = block_groups.to_crs(epsg=32610)\n",
    "    \n",
    "    # Add area column\n",
    "    block_groups['bg_area'] = block_groups['geometry'].area \n",
    "\n",
    "    \n",
    "    # Create intersection between the Voronoi Polygons and their respective stops\n",
    "    # geopandas.sjoin(left_df, right_df, how='inner', op='intersects', lsuffix='left', rsuffix='right')\n",
    "    clipped_voronoi_with_stops = gpd.sjoin(clipped_voronoi, transit_stops)\n",
    "    print(\"\\n *******THE VORONOI POLYGONS FOR EACH TRANSIT STOP HAVE BEEN CREATED:\")\n",
    "    print(clipped_voronoi_with_stops.head(3))\n",
    "    \n",
    "    # Create Intersection between Voronoi Polygons and Block Groups\n",
    "    route_voronoi_bg = clipped_voronoi_with_stops.overlay(block_groups, how='intersection')\n",
    "    voronoi_w_bgs = route_voronoi_bg\n",
    "    print(f\"\\n\\nNumber of Voronoi Polygons for {export_name}:\")\n",
    "    print(clipped_voronoi.shape[0])\n",
    "    print(\"Number of block groups that intersect Voronoi Polygons:\")\n",
    "    print(route_voronoi_bg.shape[0])\n",
    "    \n",
    "    # Calculate area of block group polygons clipped to boundaries of the Route Voronoi Polygons\n",
    "    route_voronoi_bg['route_vor_area'] = route_voronoi_bg['geometry'].area \n",
    "\n",
    "    # Calculate the proportion of block group geographies that overlap the iso/voronois\n",
    "    # Divide max yellow voronoi/Block Group intersections areas by the unaltered block groups' areas. \n",
    "    route_voronoi_bg['area_proportion'] = (route_voronoi_bg['route_vor_area'] / route_voronoi_bg['bg_area'])\n",
    "    \n",
    "    # Convert Pop_Total column to numeric\n",
    "    route_voronoi_bg['total_pop']= route_voronoi_bg['total_pop'].astype('float64')\n",
    "    \n",
    "    # Calculate the proportion of block group population estimates falling within each isochrone. \n",
    "    route_voronoi_bg['proportional_pop'] = (route_voronoi_bg['area_proportion'] * route_voronoi_bg['total_pop'])\n",
    "    \n",
    "    print(\"\\n\\n===================================================================\\n\")\n",
    "    print(\"PRINTING route_voronoi_bg index_right column\")\n",
    "    print(route_voronoi_bg['index_right'])\n",
    "\n",
    "    # Aggregate all proportional populations for each transit stop's respective isochrone. \n",
    "    transit_stop_iso_pop = route_voronoi_bg.dissolve(by='index_right', aggfunc='sum')\n",
    "    print(\"\\n\\nNumber of Original Voronoi Polygons for Route:\")\n",
    "    print(clipped_voronoi.shape[0])\n",
    "    print(\"\\n\\nNumber of Voronoi Polygons after dissolve:\")\n",
    "    print(transit_stop_iso_pop.shape[0])\n",
    "    print(\"\\n** Number after dissolve should be the same as the original number\")\n",
    "    \n",
    "    # Join aggregated data back to transit stop points\n",
    "    final_stops_w_pop = gpd.sjoin(transit_stops, transit_stop_iso_pop)\n",
    "    \n",
    "    # Convert float proportional population count to int. \n",
    "    final_stops_w_pop['proportional_pop'] = final_stops_w_pop['proportional_pop'].astype('int')\n",
    "    \n",
    "    # Convert proportional population column to integer to remove decimals. \n",
    "    final_stops_w_pop['proportional_pop'] = final_stops_w_pop['proportional_pop'].astype('int')\n",
    "\n",
    "    # add column with proportional populations numbers formatted to include commas.\n",
    "    final_stops_w_pop['proportional_pop_comma'] = final_stops_w_pop.apply(lambda x: \"{:,}\".format(x['proportional_pop']), axis=1)\n",
    "    \n",
    "    # Print stats to QC data. \n",
    "    print(\"\\n** Number of total stops in original data:\")\n",
    "    print(transit_stops.shape[0])\n",
    "    print(\"\\n** Number of final stops:\")\n",
    "    print(final_stops_w_pop.shape[0])\n",
    "    \n",
    "\n",
    "    # Save Isochrone/Voronoi Polygons with Aggregated Population estimates to disk\n",
    "    if export_final_isos is True:\n",
    "        print(f\"\\n\\n***************** EXPORTING FINAL ISOS WITH POPULATION STATS FOR {export_name}\")\n",
    "        transit_stop_iso_pop_file =r\"/Users/calvindechicago/Documents/GitHub/JWA_2021/code_outputs/Transit_Stop_Isos_with_Pop.gpkg\"\n",
    "        transit_stop_iso_pop.to_file(Transit_stop_iso_pop_file, layer=f'Transit_Stop_Isos_with_Pop_{export_name}', driver=\"GPKG\")\n",
    "        \n",
    "    else:\n",
    "        pass;\n",
    "    \n",
    "    \n",
    "    # Save Final Transit stop points with Aggregated Population estimates to disk\n",
    "    if export_final_stops is True:\n",
    "        print(f\"\\n\\n***************** EXPORTING FINAL Transit STOP POINT WITH POPULATION STATS FOR {export_name}\")\n",
    "        final_stops_w_pop_file =r\"/Users/calvindechicago/Documents/GitHub/JWA_2021/code_outputs/Transit_Stop_points_with_Pop.gpkg\"\n",
    "        final_stops_w_pop.to_file(final_stops_w_pop_file, layer=f'Transit_Stop_points_with_Pop_{export_name}', driver=\"GPKG\")\n",
    "    else:\n",
    "        pass;\n",
    "    \n",
    "    return transit_stop_iso_pop, final_stops_w_pop, voronoi_w_bgs;\n",
    "\n",
    "    \n"
   ]
  },
  {
   "cell_type": "code",
   "execution_count": 535,
   "metadata": {},
   "outputs": [],
   "source": [
    "    def export_geojson(transit_stop_iso_pop, final_stops_w_pop, export_name='final_export'):\n",
    "        \"\"\"\n",
    "        This function is called to export the final outputs to GeoJSON. These include the iso/voronoi polygons for each transit stop \n",
    "        in a route, and the stop points themselves with the aggregated population data. Leaflet requires GeoJSON, and the export is \n",
    "        being methodized to allow easy export of each transit route\n",
    "        \n",
    "            params: transit stop isochrones/voronoi polygons with population data. \n",
    "            params: final transit stop points with associated residential coverage area population estimates\n",
    "    \n",
    "        \"\"\"\n",
    "        print(f\"\\n*****Reprojecting {export_name} to epsg:4326 for use in leaflet map\")\n",
    "        \n",
    "        transit_stop_iso_pop = transit_stop_iso_pop.to_crs(epsg=4326)\n",
    "        final_stops_w_pop = final_stops_w_pop.to_crs(epsg=4326)\n",
    "        \n",
    "        print(\"Transit_stop_iso_w_pop projection is: \", transit_stop_iso_pop.crs)\n",
    "        print(\"final_stops_w_pop projection is: \", final_stops_w_pop.crs)\n",
    "        time.sleep(5)\n",
    "\n",
    "        \n",
    "        print(f\"\\n\\n***************** EXPORTING FINAL ISOS WITH POPULATION STATS TO GEOJSON FOR {export_name}\")\n",
    "        transit_stop_iso_pop_filepath = f\"/Users/calvindechicago/Documents/GitHub/JWA_2021/code_outputs/geojson/isos_w_pop_{export_name}.geojson\"\n",
    "        transit_stop_iso_pop.to_file(transit_stop_iso_pop_filepath, driver='GeoJSON')\n",
    "        \n",
    "        print(f\"\\n\\n***************** EXPORTING FINAL TRANSIT STOP POINTS WITH POPULATION STATS TO GEOJSON FOR {export_name}\")\n",
    "        final_stops_w_pop_filepath = f\"/Users/calvindechicago/Documents/GitHub/JWA_2021/code_outputs/geojson/transit_stops_w_pop_{export_name}.geojson\"\n",
    "        final_stops_w_pop.to_file(final_stops_w_pop_filepath, driver='GeoJSON')"
   ]
  },
  {
   "cell_type": "markdown",
   "metadata": {},
   "source": [
    "# Create Geodataframe for each Transit Route and Block Groups"
   ]
  },
  {
   "cell_type": "code",
   "execution_count": 65,
   "metadata": {},
   "outputs": [
    {
     "name": "stdout",
     "output_type": "stream",
     "text": [
      "Unique routes in route 2 data: \n",
      "['2 Division (Outbound)' '2 Division (Inbound & Outbound)'\n",
      " '2 Division (Inbound)']\n",
      "Max Yellow Line CRS: \n",
      "epsg:32610\n",
      "\n",
      "\n",
      "Unfiltered Route 2 data shape:\n",
      "(161, 6)\n",
      "epsg:2269\n",
      "\n",
      "\n",
      "Route_2_inbound_and_io data shape:\n",
      "(82, 6)\n",
      "epsg:32610\n",
      "\n",
      "\n",
      "Route_2_outbound data shape:\n",
      "(79, 6)\n",
      "epsg:32610\n",
      "\n",
      "\n",
      "Block Group data shape:\n",
      "(521, 19)\n",
      "epsg:32610\n"
     ]
    }
   ],
   "source": [
    "# create geodataframe for each route\n",
    "\n",
    "route_2_stops = gpd.read_file(ROUTE_2_STOPS)\n",
    "max_yellow_stops = gpd.read_file(MAX_YELLOW_STOPS)\n",
    "print(\"Unique routes in route 2 data: \")\n",
    "print(route_2_stops.lines.unique())\n",
    "\n",
    "# Project Max Yellow Line data\n",
    "max_yellow_stops = max_yellow_stops.to_crs(epsg=32610)\n",
    "print(\"Max Yellow Line CRS: \")\n",
    "print(max_yellow_stops.crs)\n",
    "\n",
    "# Create geodataframe for route 2 inbound stops and stops that are both inbound and outbound\n",
    "route_2_inbound_and_io = route_2_stops[(route_2_stops['lines']=='2 Division (Inbound)') |\n",
    "                                        (route_2_stops['lines']=='2 Division (Inbound & Outbound)')]\n",
    "# Project geodataframe\n",
    "route_2_inbound_and_io = route_2_inbound_and_io.to_crs(epsg=32610)\n",
    "\n",
    "\n",
    "# Create geodataframe for route 2 outbound stops and stops that are both inbound and outbound\n",
    "route_2_outbound = route_2_stops[(route_2_stops['lines']=='2 Division (Outbound)')]\n",
    "# Project geodataframe\n",
    "route_2_outbound = route_2_outbound.to_crs(epsg=32610)\n",
    "\n",
    "# Create geodataframe for block groups and project\n",
    "block_groups_filepath = \"/Users/calvindechicago/Documents/GitHub/JWA_2021/code_outputs/bg_pop_051.gpkg\"\n",
    "block_groups = gpd.read_file(block_groups_filepath)\n",
    "\n",
    "# Project geodataframe\n",
    "block_groups = block_groups.to_crs(epsg=32610)\n",
    "\n",
    "                                 \n",
    "# Display Results and QC against unfiltered route data\n",
    "print(\"\\n\\nUnfiltered Route 2 data shape:\")\n",
    "print(route_2_stops.shape)\n",
    "print(route_2_stops.crs)\n",
    "print(\"\\n\\nRoute_2_inbound_and_io data shape:\")\n",
    "print(route_2_inbound_and_io.shape)\n",
    "print(route_2_inbound_and_io.crs) \n",
    "print(\"\\n\\nRoute_2_outbound data shape:\" )\n",
    "print(route_2_outbound.shape)\n",
    "print(route_2_outbound.crs)\n",
    "print(\"\\n\\nBlock Group data shape:\" )\n",
    "print(block_groups.shape)\n",
    "print(block_groups.crs)"
   ]
  },
  {
   "cell_type": "markdown",
   "metadata": {},
   "source": [
    "# Run Analysis on all transit routes using Functions"
   ]
  },
  {
   "cell_type": "code",
   "execution_count": 66,
   "metadata": {},
   "outputs": [
    {
     "name": "stdout",
     "output_type": "stream",
     "text": [
      "2021-12-29 23:32:09 Created nodes GeoDataFrame from graph\n",
      "The nearest nodes are: \n",
      " \n",
      "\n",
      " Number of coordinate pairs: \n",
      " \n",
      "17\n",
      "\n",
      "\n",
      "(519502.72375510994, 5034614.143131599)\n",
      "(530937.0307873564, 5055259.284696644)\n",
      "(519502.72375510994, 5055259.284696644)\n",
      "(530937.0307873564, 5034614.143131599)\n",
      "Coords shape before adding enlarged bounding box vertices:\n",
      "\n",
      "(17, 2)\n",
      "Coords shape after adding enlarged bounding box vertices:\n",
      "\n",
      "(21, 2)\n",
      "Creating Polygons from shapely Voronoi object...\n",
      "\n",
      "\n",
      "*************************\n",
      "*************************\n",
      "RETURNING CLIPPED VORONOI POLYGONS for max_yellow_stops. \n",
      "There are  17  polygons for max_yellow_stops\n",
      "\n",
      "\n",
      "\n",
      "\n",
      "======================RUNNING AGGREGATE_POP FUNCTION===========================================\n",
      "\n",
      "Below is a plot of the transit stop points overlaying the voronoi polygons for max_yellow_stops route:\n"
     ]
    },
    {
     "data": {
      "image/png": "[encoded data removed]",
      "text/plain": [
       "<Figure size 432x288 with 1 Axes>"
      ]
     },
     "metadata": {
      "needs_background": "light"
     },
     "output_type": "display_data"
    },
    {
     "name": "stdout",
     "output_type": "stream",
     "text": [
      "17\n",
      "\n",
      " *******THE VORONOI POLYGONS FOR EACH TRANSIT STOP HAVE BEEN CREATED:\n",
      "                                             geometry  index_right  \\\n",
      "9   POLYGON ((524222.872 5047312.580, 524252.573 5...            5   \n",
      "16  POLYGON ((524458.954 5044258.341, 524104.933 5...           13   \n",
      "13  POLYGON ((525327.849 5044383.465, 525287.618 5...           11   \n",
      "\n",
      "                STATION TYPE LINE    STATUS  \n",
      "9   Kenton/N Denver Ave  MAX    Y  Existing  \n",
      "16        N Prescott St  MAX    Y  Existing  \n",
      "13        Overlook Park  MAX    Y  Existing  \n",
      "\n",
      "\n",
      "Number of Voronoi Polygons for max_yellow_stops:\n",
      "17\n",
      "Number of block groups that intersect Voronoi Polygons:\n",
      "96\n",
      "\n",
      "\n",
      "===================================================================\n",
      "\n",
      "PRINTING route_voronoi_bg index_right column\n",
      "0      5\n",
      "1      5\n",
      "2      1\n",
      "3      5\n",
      "4      1\n",
      "      ..\n",
      "91    12\n",
      "92     0\n",
      "93     1\n",
      "94     0\n",
      "95     0\n",
      "Name: index_right, Length: 96, dtype: int64\n",
      "\n",
      "\n",
      "Number of Original Voronoi Polygons for Route:\n",
      "17\n",
      "\n",
      "\n",
      "Number of Voronoi Polygons after dissolve:\n",
      "17\n",
      "\n",
      "** Number after dissolve should be the same as the original number\n",
      "\n",
      "** Number of total stops in original data:\n",
      "17\n",
      "\n",
      "** Number of final stops:\n",
      "17\n",
      "2021-12-29 23:32:25 Created nodes GeoDataFrame from graph\n",
      "The nearest nodes are: \n",
      " \n",
      "\n",
      " Number of coordinate pairs: \n",
      " \n",
      "82\n",
      "\n",
      "\n",
      "(520046.29607788636, 5033943.9332469795)\n",
      "(549804.8822555854, 5046404.804958304)\n",
      "(520046.29607788636, 5046404.804958304)\n",
      "(549804.8822555854, 5033943.9332469795)\n",
      "Coords shape before adding enlarged bounding box vertices:\n",
      "\n",
      "(82, 2)\n",
      "Coords shape after adding enlarged bounding box vertices:\n",
      "\n",
      "(86, 2)\n",
      "Creating Polygons from shapely Voronoi object...\n",
      "\n",
      "\n",
      "*************************\n",
      "*************************\n",
      "RETURNING CLIPPED VORONOI POLYGONS for route_2_inbound_and_io. \n",
      "There are  82  polygons for route_2_inbound_and_io\n",
      "\n",
      "\n",
      "\n",
      "\n",
      "======================RUNNING AGGREGATE_POP FUNCTION===========================================\n",
      "\n",
      "Below is a plot of the transit stop points overlaying the voronoi polygons for route_2_inbound_and_io route:\n"
     ]
    },
    {
     "data": {
      "image/png": "[encoded data removed]",
      "text/plain": [
       "<Figure size 432x288 with 1 Axes>"
      ]
     },
     "metadata": {
      "needs_background": "light"
     },
     "output_type": "display_data"
    },
    {
     "name": "stdout",
     "output_type": "stream",
     "text": [
      "82\n",
      "\n",
      " *******THE VORONOI POLYGONS FOR EACH TRANSIT STOP HAVE BEEN CREATED:\n",
      "                                             geometry  index_right   map_id  \\\n",
      "29  POLYGON ((544219.431 5038520.841, 544193.734 5...          104  c14266b   \n",
      "41  POLYGON ((524576.276 5041237.146, 524578.202 5...            2  c14266b   \n",
      "39  POLYGON ((525382.699 5040586.708, 524497.589 5...           10  c14266b   \n",
      "\n",
      "            map_name stop_id                      stop_name  \\\n",
      "29  Untitled Project    1332  NW Division & Eastman Parkway   \n",
      "41  Untitled Project    7751            SW 6th & W Burnside   \n",
      "39  Untitled Project    7797   SW 6th & Harvey Milk (Stark)   \n",
      "\n",
      "                   lines  \n",
      "29  2 Division (Inbound)  \n",
      "41  2 Division (Inbound)  \n",
      "39  2 Division (Inbound)  \n",
      "\n",
      "\n",
      "Number of Voronoi Polygons for route_2_inbound_and_io:\n",
      "82\n",
      "Number of block groups that intersect Voronoi Polygons:\n",
      "309\n",
      "\n",
      "\n",
      "===================================================================\n",
      "\n",
      "PRINTING route_voronoi_bg index_right column\n",
      "0      104\n",
      "1       93\n",
      "2       89\n",
      "3      104\n",
      "4        1\n",
      "      ... \n",
      "304    110\n",
      "305     87\n",
      "306      4\n",
      "307      4\n",
      "308      4\n",
      "Name: index_right, Length: 309, dtype: int64\n",
      "\n",
      "\n",
      "Number of Original Voronoi Polygons for Route:\n",
      "82\n",
      "\n",
      "\n",
      "Number of Voronoi Polygons after dissolve:\n",
      "82\n",
      "\n",
      "** Number after dissolve should be the same as the original number\n",
      "\n",
      "** Number of total stops in original data:\n",
      "82\n",
      "\n",
      "** Number of final stops:\n",
      "82\n",
      "2021-12-29 23:32:43 Created nodes GeoDataFrame from graph\n",
      "The nearest nodes are: \n",
      " \n",
      "\n",
      " Number of coordinate pairs: \n",
      " \n",
      "79\n",
      "\n",
      "\n",
      "(520098.52977649437, 5033974.109470711)\n",
      "(549752.0873176479, 5046291.765913875)\n",
      "(520098.52977649437, 5046291.765913875)\n",
      "(549752.0873176479, 5033974.109470711)\n",
      "Coords shape before adding enlarged bounding box vertices:\n",
      "\n",
      "(79, 2)\n",
      "Coords shape after adding enlarged bounding box vertices:\n",
      "\n",
      "(83, 2)\n",
      "Creating Polygons from shapely Voronoi object...\n",
      "\n",
      "\n",
      "*************************\n",
      "*************************\n",
      "RETURNING CLIPPED VORONOI POLYGONS for route_2_outbound. \n",
      "There are  79  polygons for route_2_outbound\n",
      "\n",
      "\n",
      "\n",
      "\n",
      "======================RUNNING AGGREGATE_POP FUNCTION===========================================\n",
      "\n",
      "Below is a plot of the transit stop points overlaying the voronoi polygons for route_2_outbound route:\n"
     ]
    },
    {
     "data": {
      "image/png": "[encoded data removed]",
      "text/plain": [
       "<Figure size 432x288 with 1 Axes>"
      ]
     },
     "metadata": {
      "needs_background": "light"
     },
     "output_type": "display_data"
    },
    {
     "name": "stdout",
     "output_type": "stream",
     "text": [
      "79\n",
      "\n",
      " *******THE VORONOI POLYGONS FOR EACH TRANSIT STOP HAVE BEEN CREATED:\n",
      "                                             geometry  index_right   map_id  \\\n",
      "59  POLYGON ((533334.740 5038390.109, 533205.516 5...          133  c14266b   \n",
      "70  POLYGON ((532959.586 5039830.182, 533106.876 5...          138  c14266b   \n",
      "56  POLYGON ((529539.457 5039669.416, 529915.329 5...           84  c14266b   \n",
      "\n",
      "            map_name stop_id           stop_name                  lines  \n",
      "59  Untitled Project    1500  SE Division & 85th  2 Division (Outbound)  \n",
      "70  Untitled Project    1497  SE Division & 82nd  2 Division (Outbound)  \n",
      "56  Untitled Project    1462  SE Division & 41st  2 Division (Outbound)  \n",
      "\n",
      "\n",
      "Number of Voronoi Polygons for route_2_outbound:\n",
      "79\n",
      "Number of block groups that intersect Voronoi Polygons:\n",
      "300\n",
      "\n",
      "\n",
      "===================================================================\n",
      "\n",
      "PRINTING route_voronoi_bg index_right column\n",
      "0      133\n",
      "1      138\n",
      "2      137\n",
      "3      133\n",
      "4      133\n",
      "      ... \n",
      "295    137\n",
      "296     65\n",
      "297     65\n",
      "298     17\n",
      "299     17\n",
      "Name: index_right, Length: 300, dtype: int64\n",
      "\n",
      "\n",
      "Number of Original Voronoi Polygons for Route:\n",
      "79\n",
      "\n",
      "\n",
      "Number of Voronoi Polygons after dissolve:\n",
      "79\n",
      "\n",
      "** Number after dissolve should be the same as the original number\n",
      "\n",
      "** Number of total stops in original data:\n",
      "79\n",
      "\n",
      "** Number of final stops:\n",
      "79\n"
     ]
    }
   ],
   "source": [
    "# This runs the two functions on the 1) Max Yellow Line, Route 2 Inbound and Inbound/Outbound combined stops, \n",
    "# and Route 2 Outbound. \n",
    "# A dictionary is created which contains the name of each route as keys, and geodataframes of the stops as values.\n",
    "# A for loop is used to iterate over each key/value pair. The keys are important as they are used to dynamically \n",
    "# name file output.\n",
    "\n",
    "# Create a dictionary showing the desired export name, and it's respective geodataframe. \n",
    "route_lines= {\"max_yellow_stops\": max_yellow_stops, \"route_2_inbound_and_io\": route_2_inbound_and_io,\n",
    "              \"route_2_outbound\": route_2_outbound}\n",
    "\n",
    "# Iterate through the geodataframes and run the functions to calculate the residential coverage areas and their \n",
    "# associated population estimates. \n",
    "\n",
    "for key, value in route_lines.items():\n",
    "    # Run create_isos function. Save dissolved isochrones to variable\n",
    "    isos = create_isochrones(value,key,export=False)\n",
    "    \n",
    "    # Run create_residential_coverage_areas function. Save clipped Iso/Voronoi polygons to variable\n",
    "    clipped_voronoi = create_residential_coverage_areas(isos,value,key, export=False)\n",
    "    \n",
    "    # Run aggregate_pop function. \n",
    "    transit_stop_iso_w_pop, final_stops_w_pop, voronoi_w_bgs  = aggregate_pop(block_groups_filepath, clipped_voronoi, value, key,\n",
    "                                           export_final_isos=False, export_final_stops=False)\n",
    "    \n",
    "    # Run function to export each file to GeoJSON\n",
    "   # export_geojson(transit_stop_iso_w_pop, final_stops_w_pop, key)\n",
    "    \n",
    "   "
   ]
  },
  {
   "cell_type": "code",
   "execution_count": 68,
   "metadata": {},
   "outputs": [
    {
     "data": {
      "text/plain": [
       "<AxesSubplot:>"
      ]
     },
     "execution_count": 68,
     "metadata": {},
     "output_type": "execute_result"
    },
    {
     "data": {
      "image/png": "[encoded data removed]",
      "text/plain": [
       "<Figure size 432x288 with 1 Axes>"
      ]
     },
     "metadata": {
      "needs_background": "light"
     },
     "output_type": "display_data"
    }
   ],
   "source": [
    "voronoi_w_bgs.plot()"
   ]
  },
  {
   "cell_type": "code",
   "execution_count": 70,
   "metadata": {},
   "outputs": [],
   "source": [
    "        voronoi_w_bgs_filepath = f\"/Users/calvindechicago/Documents/GitHub/JWA_2021/code_outputs/geojson/voronoi_w_bgs.geojson\"\n",
    "        voronoi_w_bgs.to_file(voronoi_w_bgs_filepath, driver='GeoJSON')"
   ]
  },
  {
   "cell_type": "code",
   "execution_count": null,
   "metadata": {},
   "outputs": [],
   "source": []
  }
 ],
 "metadata": {
  "kernelspec": {
   "display_name": "Python 3 (ipykernel)",
   "language": "python",
   "name": "python3"
  },
  "language_info": {
   "codemirror_mode": {
    "name": "ipython",
    "version": 3
   },
   "file_extension": ".py",
   "mimetype": "text/x-python",
   "name": "python",
   "nbconvert_exporter": "python",
   "pygments_lexer": "ipython3",
   "version": "3.10.1"
  }
 },
 "nbformat": 4,
 "nbformat_minor": 4
}
